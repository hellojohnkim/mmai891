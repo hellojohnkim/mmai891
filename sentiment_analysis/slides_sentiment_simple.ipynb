{
 "cells": [
  {
   "cell_type": "markdown",
   "metadata": {},
   "source": [
    "# Playground for Lexicon-based Sentiment Analysis\n",
    "\n",
    "- Stephen W. Thomas\n",
    "\n",
    "Uses Textblob to do the heavy lifting."
   ]
  },
  {
   "cell_type": "code",
   "execution_count": 1,
   "metadata": {},
   "outputs": [],
   "source": [
    "from textblob import TextBlob"
   ]
  },
  {
   "cell_type": "code",
   "execution_count": 2,
   "metadata": {},
   "outputs": [],
   "source": [
    "sent = \"Steve is smart, handsome, and funny.\"\n",
    "tb = TextBlob(sent)"
   ]
  },
  {
   "cell_type": "code",
   "execution_count": 3,
   "metadata": {},
   "outputs": [
    {
     "data": {
      "text/plain": [
       "[('Steve', 'NNP'),\n",
       " ('is', 'VBZ'),\n",
       " ('smart', 'JJ'),\n",
       " ('handsome', 'JJ'),\n",
       " ('and', 'CC'),\n",
       " ('funny', 'NN')]"
      ]
     },
     "execution_count": 3,
     "metadata": {},
     "output_type": "execute_result"
    }
   ],
   "source": [
    "tb.tags"
   ]
  },
  {
   "cell_type": "code",
   "execution_count": 4,
   "metadata": {},
   "outputs": [
    {
     "data": {
      "text/plain": [
       "WordList(['steve'])"
      ]
     },
     "execution_count": 4,
     "metadata": {},
     "output_type": "execute_result"
    }
   ],
   "source": [
    "tb.noun_phrases"
   ]
  },
  {
   "cell_type": "code",
   "execution_count": 5,
   "metadata": {},
   "outputs": [
    {
     "data": {
      "text/plain": [
       "Sentiment(polarity=0.32142857142857145, subjectivity=0.8809523809523809)"
      ]
     },
     "execution_count": 5,
     "metadata": {},
     "output_type": "execute_result"
    }
   ],
   "source": [
    "tb.sentiment"
   ]
  },
  {
   "cell_type": "code",
   "execution_count": 6,
   "metadata": {},
   "outputs": [
    {
     "data": {
      "text/plain": [
       "0.32142857142857145"
      ]
     },
     "execution_count": 6,
     "metadata": {},
     "output_type": "execute_result"
    }
   ],
   "source": [
    "tb.sentiment.polarity"
   ]
  },
  {
   "cell_type": "code",
   "execution_count": 7,
   "metadata": {},
   "outputs": [],
   "source": [
    "sentences = [\n",
    "   \"I love Princess Elsa.\",\n",
    "   \"I do not love Princess Elsa.\",\n",
    "   \"I am luke warm about Princess Elsa.\",\n",
    "   \"I love cheese but hate wine.\",\n",
    "    \"The boy is not mad.\",\n",
    "    \"The boy is not not mad.\",\n",
    "    \"GOING TO LA THIS WEEKEND.\",\n",
    "    \"I love being ignored.\",\n",
    "    \"Nobody gives a good performance.\",\n",
    "    \"Nobody should miss this movie.\"\n",
    "            ]"
   ]
  },
  {
   "cell_type": "code",
   "execution_count": 8,
   "metadata": {},
   "outputs": [
    {
     "name": "stdout",
     "output_type": "stream",
     "text": [
      "I love Princess Elsa.\n",
      "Sentiment(polarity=0.5, subjectivity=0.6)\n",
      "Positive\n",
      "\n",
      "I do not love Princess Elsa.\n",
      "Sentiment(polarity=-0.25, subjectivity=0.6)\n",
      "Negative\n",
      "\n",
      "I am luke warm about Princess Elsa.\n",
      "Sentiment(polarity=0.6, subjectivity=0.6)\n",
      "Positive\n",
      "\n",
      "I love cheese but hate wine.\n",
      "Sentiment(polarity=-0.15000000000000002, subjectivity=0.75)\n",
      "Negative\n",
      "\n",
      "The boy is not mad.\n",
      "Sentiment(polarity=0.3125, subjectivity=1.0)\n",
      "Positive\n",
      "\n",
      "The boy is not not mad.\n",
      "Sentiment(polarity=0.3125, subjectivity=1.0)\n",
      "Positive\n",
      "\n",
      "GOING TO LA THIS WEEKEND.\n",
      "Sentiment(polarity=0.0, subjectivity=0.0)\n",
      "Negative\n",
      "\n",
      "I love being ignored.\n",
      "Sentiment(polarity=0.5, subjectivity=0.6)\n",
      "Positive\n",
      "\n",
      "Nobody gives a good performance.\n",
      "Sentiment(polarity=0.7, subjectivity=0.6000000000000001)\n",
      "Positive\n",
      "\n",
      "Nobody should miss this movie.\n",
      "Sentiment(polarity=0.0, subjectivity=0.0)\n",
      "Negative\n",
      "\n"
     ]
    }
   ],
   "source": [
    "for sentence in sentences:\n",
    "    sent = TextBlob(sentence)\n",
    "    print(sent)\n",
    "    print(sent.sentiment)\n",
    "    if sent.sentiment.polarity > 0.0:\n",
    "        print('Positive')\n",
    "    else:\n",
    "        print(\"Negative\")\n",
    "    print()\n"
   ]
  },
  {
   "cell_type": "code",
   "execution_count": null,
   "metadata": {},
   "outputs": [],
   "source": []
  }
 ],
 "metadata": {
  "kernelspec": {
   "display_name": "Python [conda env:small_sklearn] *",
   "language": "python",
   "name": "conda-env-small_sklearn-py"
  },
  "language_info": {
   "codemirror_mode": {
    "name": "ipython",
    "version": 3
   },
   "file_extension": ".py",
   "mimetype": "text/x-python",
   "name": "python",
   "nbconvert_exporter": "python",
   "pygments_lexer": "ipython3",
   "version": "3.6.10"
  }
 },
 "nbformat": 4,
 "nbformat_minor": 4
}
