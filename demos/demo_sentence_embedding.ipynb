{
  "cells": [
    {
      "cell_type": "markdown",
      "metadata": {
        "id": "EMxXcHQoRHMm"
      },
      "source": [
        "# Sentence Embedding Demo\n",
        "- Stephen W. Thomas\n",
        "- Used for MMA 865 and MMAI 891"
      ]
    },
    {
      "cell_type": "code",
      "source": [
        "pip install sentence_transformers "
      ],
      "metadata": {
        "id": "jV6AAQIlBrUY"
      },
      "execution_count": null,
      "outputs": []
    },
    {
      "cell_type": "code",
      "execution_count": null,
      "metadata": {
        "id": "yyYgilaJRHMv"
      },
      "outputs": [],
      "source": [
        "from sentence_transformers import SentenceTransformer, LoggingHandler"
      ]
    },
    {
      "cell_type": "code",
      "execution_count": null,
      "metadata": {
        "id": "VlByFKZXRHMw"
      },
      "outputs": [],
      "source": [
        "embedder = SentenceTransformer(model_name_or_path=\"all-mpnet-base-v2\")\n",
        "embeddings = embedder.encode([\"The dog ate my homework\"], convert_to_numpy=True)"
      ]
    },
    {
      "cell_type": "code",
      "execution_count": null,
      "metadata": {
        "id": "aaQ5Uu4oUBcF"
      },
      "outputs": [],
      "source": [
        "embeddings"
      ]
    },
    {
      "cell_type": "code",
      "execution_count": null,
      "metadata": {
        "id": "PjD17m-2U3jK"
      },
      "outputs": [],
      "source": [
        "len(embeddings[0])"
      ]
    }
  ],
  "metadata": {
    "colab": {
      "name": "imdb_classification.ipynb",
      "provenance": []
    },
    "kernelspec": {
      "display_name": "Python 3",
      "language": "python",
      "name": "python3"
    },
    "language_info": {
      "codemirror_mode": {
        "name": "ipython",
        "version": 3
      },
      "file_extension": ".py",
      "mimetype": "text/x-python",
      "name": "python",
      "nbconvert_exporter": "python",
      "pygments_lexer": "ipython3",
      "version": "3.6.4"
    }
  },
  "nbformat": 4,
  "nbformat_minor": 0
}