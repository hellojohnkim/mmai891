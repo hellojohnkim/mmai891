{
  "nbformat": 4,
  "nbformat_minor": 0,
  "metadata": {
    "colab": {
      "name": "demo_sentimentAnalysis.ipynb",
      "provenance": [],
      "toc_visible": true,
      "authorship_tag": "ABX9TyMxKwfF4yLrKyjHgVsZHqQ0",
      "include_colab_link": true
    },
    "kernelspec": {
      "name": "python3",
      "display_name": "Python 3"
    },
    "language_info": {
      "name": "python"
    }
  },
  "cells": [
    {
      "cell_type": "markdown",
      "metadata": {
        "id": "view-in-github",
        "colab_type": "text"
      },
      "source": [
        "<a href=\"https://colab.research.google.com/github/stepthom/NLP_course/blob/main/demos/demo_sentimentAnalysis.ipynb\" target=\"_parent\"><img src=\"https://colab.research.google.com/assets/colab-badge.svg\" alt=\"Open In Colab\"/></a>"
      ]
    },
    {
      "cell_type": "markdown",
      "metadata": {
        "id": "4rcR9kSIoslm"
      },
      "source": [
        "# Lexicon-based Sentiment Analysis Demo\n",
        "- Stephen W. Thomas\n",
        "- Used for MMA 865 and MMAI 891"
      ]
    },
    {
      "cell_type": "code",
      "metadata": {
        "id": "JurTuDq_ow0M"
      },
      "source": [
        "!pip install vaderSentiment"
      ],
      "execution_count": null,
      "outputs": []
    },
    {
      "cell_type": "code",
      "metadata": {
        "id": "wlWMtzUeovl8"
      },
      "source": [
        "from vaderSentiment.vaderSentiment import SentimentIntensityAnalyzer\n",
        "analyzer = SentimentIntensityAnalyzer()"
      ],
      "execution_count": null,
      "outputs": []
    },
    {
      "cell_type": "code",
      "metadata": {
        "id": "CJh3sHOlooaM"
      },
      "source": [
        "analyzer.polarity_scores(\"I really like Princess Elsa. She's so beautiful!\")"
      ],
      "execution_count": null,
      "outputs": []
    },
    {
      "cell_type": "code",
      "metadata": {
        "id": "j-I8K9wOpCU6"
      },
      "source": [
        "analyzer.polarity_scores(\"I hate Tom Cruise. He disgusts me.\")"
      ],
      "execution_count": null,
      "outputs": []
    },
    {
      "cell_type": "code",
      "metadata": {
        "id": "1kzRDhpNrKrr"
      },
      "source": [
        "analyzer.polarity_scores(\"Google is a great company and a great product.\")"
      ],
      "execution_count": null,
      "outputs": []
    },
    {
      "cell_type": "code",
      "metadata": {
        "id": "gksQ-Srctzr3"
      },
      "source": [
        "analyzer.polarity_scores(\"The movie was a big yawn.\")"
      ],
      "execution_count": null,
      "outputs": []
    },
    {
      "cell_type": "code",
      "metadata": {
        "id": "eaOpZcYTt3dq"
      },
      "source": [
        "analyzer.polarity_scores(\"I am not very nice!\")"
      ],
      "execution_count": null,
      "outputs": []
    },
    {
      "cell_type": "code",
      "metadata": {
        "id": "72fnSEjmt3x5"
      },
      "source": [
        "analyzer.polarity_scores(\"The chicken was somewhat nice.\")"
      ],
      "execution_count": null,
      "outputs": []
    },
    {
      "cell_type": "code",
      "metadata": {
        "id": "Afugnw0Jt4Pe"
      },
      "source": [
        "analyzer.polarity_scores(\"My smmr hols wr tots CWOT.\")"
      ],
      "execution_count": null,
      "outputs": []
    },
    {
      "cell_type": "code",
      "metadata": {
        "id": "WRP96wfMt4vo"
      },
      "source": [
        "analyzer.polarity_scores(\"I love cheese but hate wine.\")"
      ],
      "execution_count": null,
      "outputs": []
    },
    {
      "cell_type": "code",
      "metadata": {
        "id": "gUlmMJH7t5Cm"
      },
      "source": [
        "analyzer.polarity_scores(\"I love being ignored.\")"
      ],
      "execution_count": null,
      "outputs": []
    },
    {
      "cell_type": "code",
      "metadata": {
        "id": "62-IO4gZuK90"
      },
      "source": [
        "analyzer.polarity_scores(\"My bae low key woke AF, fam\")"
      ],
      "execution_count": null,
      "outputs": []
    },
    {
      "cell_type": "code",
      "metadata": {
        "id": "LNFawv1TuLW0"
      },
      "source": [
        "analyzer.polarity_scores(\"Don't waiste your time on this movie!!\")"
      ],
      "execution_count": null,
      "outputs": []
    },
    {
      "cell_type": "code",
      "metadata": {
        "id": "oKeugN2Ryqqa"
      },
      "source": [
        "# View the lexicon\n",
        "analyzer.lexicon"
      ],
      "execution_count": null,
      "outputs": []
    },
    {
      "cell_type": "code",
      "metadata": {
        "id": "n2kyyvZGyvga"
      },
      "source": [
        "# Add or update a word in the lexicon\n",
        "\n",
        "analyzer.lexicon.update({'cheeseyyy': 5})"
      ],
      "execution_count": null,
      "outputs": []
    }
  ]
}