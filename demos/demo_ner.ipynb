{
  "nbformat": 4,
  "nbformat_minor": 0,
  "metadata": {
    "kernelspec": {
      "display_name": "Python 3",
      "language": "python",
      "name": "python3"
    },
    "language_info": {
      "codemirror_mode": {
        "name": "ipython",
        "version": 3
      },
      "file_extension": ".py",
      "mimetype": "text/x-python",
      "name": "python",
      "nbconvert_exporter": "python",
      "pygments_lexer": "ipython3",
      "version": "3.6.4"
    },
    "colab": {
      "name": "demo_ner.ipynb",
      "provenance": []
    }
  },
  "cells": [
    {
      "cell_type": "markdown",
      "metadata": {
        "id": "9kJAN5ITn5Mn"
      },
      "source": [
        "# Named Entity Demo\n",
        "- Stephen W. Thomas\n",
        "- Used for MMA 865 and MMAI 891"
      ]
    },
    {
      "cell_type": "code",
      "metadata": {
        "id": "STBe-4Ukn5Mt"
      },
      "source": [
        "import spacy\n",
        "from spacy import displacy\n",
        "nlp = spacy.load(\"en_core_web_sm\")"
      ],
      "execution_count": null,
      "outputs": []
    },
    {
      "cell_type": "code",
      "metadata": {
        "id": "UQI-Ovp9n5Mu"
      },
      "source": [
        "def do_it(text):\n",
        "    doc = nlp(text)\n",
        "    displacy.render(doc, style=\"ent\", jupyter=True)"
      ],
      "execution_count": null,
      "outputs": []
    },
    {
      "cell_type": "code",
      "metadata": {
        "id": "EfLZrhjmn5Mv"
      },
      "source": [
        "do_it(\"When Sebastian Thrun started working on self-driving cars at Google in 2007, few people outside of the company took him seriously.\")"
      ],
      "execution_count": null,
      "outputs": []
    },
    {
      "cell_type": "code",
      "metadata": {
        "id": "Tif88sFUn5Mv"
      },
      "source": [
        "do_it(\"Stephen Thomas works at Queen's University.\")"
      ],
      "execution_count": null,
      "outputs": []
    },
    {
      "cell_type": "code",
      "metadata": {
        "id": "dJyTzce8n5Mv"
      },
      "source": [
        "do_it(\"Rashpreet Juneja was born in Gwalior.\")"
      ],
      "execution_count": null,
      "outputs": []
    },
    {
      "cell_type": "code",
      "metadata": {
        "id": "q_oH362qn5Mw"
      },
      "source": [
        "do_it(\"Amanda Higgins was born in Lincoln.\")"
      ],
      "execution_count": null,
      "outputs": []
    },
    {
      "cell_type": "code",
      "metadata": {
        "id": "vVks6Pgbn5Mw"
      },
      "source": [
        "do_it(\"The American English Gardner is going to win.\")"
      ],
      "execution_count": null,
      "outputs": []
    },
    {
      "cell_type": "code",
      "metadata": {
        "id": "mdqsV_Icn5Mw"
      },
      "source": [
        "do_it(\"North West likes to eat candy.\")"
      ],
      "execution_count": null,
      "outputs": []
    },
    {
      "cell_type": "code",
      "metadata": {
        "id": "HO4z8PFFn5Mx"
      },
      "source": [
        "do_it(\"I ate pasta with Italian cheese with a Romanian girl named Olga.\")"
      ],
      "execution_count": null,
      "outputs": []
    },
    {
      "cell_type": "code",
      "metadata": {
        "id": "_j9DU0gun5Mx"
      },
      "source": [
        "do_it(\"Washington lives on Washingston street in Washington.\")"
      ],
      "execution_count": null,
      "outputs": []
    },
    {
      "cell_type": "code",
      "metadata": {
        "id": "byJW1nH7n5Mx"
      },
      "source": [
        "do_it(\"President Trump was ready to eat his KFC with Diet Coke.\")"
      ],
      "execution_count": null,
      "outputs": []
    },
    {
      "cell_type": "code",
      "metadata": {
        "id": "J0bwS1ybn5Mx"
      },
      "source": [
        "do_it(\"I bought my shoes at the Sears in Niagara Falls. They cost me $88.99. I bought them yesterday at 8pm.\")"
      ],
      "execution_count": null,
      "outputs": []
    },
    {
      "cell_type": "code",
      "metadata": {
        "id": "vSLNtsMEn5My"
      },
      "source": [
        ""
      ],
      "execution_count": null,
      "outputs": []
    }
  ]
}