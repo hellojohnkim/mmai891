{
 "cells": [
  {
   "cell_type": "markdown",
   "metadata": {
    "id": "EMxXcHQoRHMm"
   },
   "source": [
    "# Bag of Words Demo\n",
    "- Stephen W. Thomas\n",
    "- Used for MMA 865 and MMAI 891"
   ]
  },
  {
   "cell_type": "code",
   "execution_count": null,
   "metadata": {
    "id": "yyYgilaJRHMv"
   },
   "outputs": [],
   "source": [
    "import pandas as pd\n",
    "df = pd.DataFrame(data={'id': [1, 2, 3],\n",
    "                        'mytext': ['The dog ate the homework.', 'The cat ate the sandwich.', 'The dog ate the homework and the sandwich.']})\n",
    "df"
   ]
  },
  {
   "cell_type": "code",
   "execution_count": 47,
   "metadata": {
    "id": "VlByFKZXRHMw"
   },
   "outputs": [],
   "source": [
    "from sklearn.feature_extraction.text import CountVectorizer\n",
    "\n",
    "vectorizer = CountVectorizer()\n",
    "vectorizer = vectorizer.fit(df['mytext'])"
   ]
  },
  {
   "cell_type": "code",
   "execution_count": 48,
   "metadata": {
    "id": "aaQ5Uu4oUBcF"
   },
   "outputs": [],
   "source": [
    "bow = vectorizer.transform(df['mytext'])"
   ]
  },
  {
   "cell_type": "code",
   "execution_count": null,
   "metadata": {
    "id": "PjD17m-2U3jK"
   },
   "outputs": [],
   "source": [
    "print(bow)"
   ]
  },
  {
   "cell_type": "code",
   "execution_count": null,
   "metadata": {
    "id": "FTdLJvG9URWx"
   },
   "outputs": [],
   "source": [
    "vectorizer.get_feature_names()"
   ]
  },
  {
   "cell_type": "code",
   "execution_count": null,
   "metadata": {
    "id": "3SmQEXevUZWY"
   },
   "outputs": [],
   "source": [
    "bow_df = pd.DataFrame(bow.toarray(), columns=vectorizer.get_feature_names())\r\n",
    "bow_df"
   ]
  }
 ],
 "metadata": {
  "colab": {
   "name": "imdb_classification.ipynb",
   "provenance": []
  },
  "kernelspec": {
   "display_name": "Python 3",
   "language": "python",
   "name": "python3"
  },
  "language_info": {
   "codemirror_mode": {
    "name": "ipython",
    "version": 3
   },
   "file_extension": ".py",
   "mimetype": "text/x-python",
   "name": "python",
   "nbconvert_exporter": "python",
   "pygments_lexer": "ipython3",
   "version": "3.6.4"
  }
 },
 "nbformat": 4,
 "nbformat_minor": 4
}
