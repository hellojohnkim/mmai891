{
  "nbformat": 4,
  "nbformat_minor": 0,
  "metadata": {
    "kernelspec": {
      "display_name": "Python 3",
      "language": "python",
      "name": "python3"
    },
    "language_info": {
      "codemirror_mode": {
        "name": "ipython",
        "version": 3
      },
      "file_extension": ".py",
      "mimetype": "text/x-python",
      "name": "python",
      "nbconvert_exporter": "python",
      "pygments_lexer": "ipython3",
      "version": "3.6.4"
    },
    "colab": {
      "name": "demo_embeddings.ipynb",
      "provenance": []
    }
  },
  "cells": [
    {
      "cell_type": "markdown",
      "metadata": {
        "id": "QgeTvG9OZZzV"
      },
      "source": [
        "# Embeddings Demo\n",
        "- Stephen W. Thomas\n",
        "- Used for MMA 865 and MMAI 891"
      ]
    },
    {
      "cell_type": "code",
      "metadata": {
        "id": "YTskvLi9aO4R"
      },
      "source": [
        "pip install flair"
      ],
      "execution_count": null,
      "outputs": []
    },
    {
      "cell_type": "code",
      "metadata": {
        "id": "yrl-f2qeZZzX"
      },
      "source": [
        "import flair"
      ],
      "execution_count": null,
      "outputs": []
    },
    {
      "cell_type": "code",
      "metadata": {
        "id": "TKRtOZUQZZzZ"
      },
      "source": [
        "from flair.embeddings import WordEmbeddings\n",
        "from flair.embeddings import TransformerWordEmbeddings\n",
        "\n",
        "# GloVe embedding\n",
        "glove_embedding = WordEmbeddings('glove')\n",
        "\n",
        "# Bert embedding\n",
        "bert_embedding = TransformerWordEmbeddings('bert-base-uncased')"
      ],
      "execution_count": null,
      "outputs": []
    },
    {
      "cell_type": "code",
      "metadata": {
        "id": "LVb9EenLZZzZ"
      },
      "source": [
        "from flair.data import Sentence\n",
        "\n",
        "sentence = Sentence('The grass is green and red.')"
      ],
      "execution_count": null,
      "outputs": []
    },
    {
      "cell_type": "code",
      "metadata": {
        "id": "vlPD9MkjbS95"
      },
      "source": [
        "for token in sentence:\r\n",
        "    print(token)"
      ],
      "execution_count": null,
      "outputs": []
    },
    {
      "cell_type": "code",
      "metadata": {
        "id": "UbkltEGrbRBR"
      },
      "source": [
        "# embed the sentence\r\n",
        "glove_embedding.embed(sentence)"
      ],
      "execution_count": null,
      "outputs": []
    },
    {
      "cell_type": "code",
      "metadata": {
        "id": "PEoO2AXebZLZ"
      },
      "source": [
        "# now check out the embedded tokens.\r\n",
        "for token in sentence:\r\n",
        "    print(token)\r\n",
        "    print(token.embedding)"
      ],
      "execution_count": null,
      "outputs": []
    },
    {
      "cell_type": "code",
      "metadata": {
        "id": "LNgqdsTyZZza"
      },
      "source": [
        "from scipy.spatial.distance import cosine\n",
        "\n",
        "def getCosine(word1, word2):\n",
        "\n",
        "    s1 = Sentence(word1)\n",
        "    s2 = Sentence(word2)\n",
        "\n",
        "    glove_embedding.embed(s1)\n",
        "    glove_embedding.embed(s2)\n",
        "\n",
        "    a = s1[0].embedding\n",
        "    b = s2[0].embedding\n",
        "    print(\"{:10s} and {:10s}: {:.3f}\".format(word1, word2, cosine(a, b)))\n",
        "    \n",
        "    \n",
        "getCosine('queen', 'king')\n",
        "getCosine('queen', 'princess')\n",
        "getCosine('queen', 'aardvark')\n",
        "getCosine('queen', 'nuclear')\n",
        "\n",
        "\n",
        "getCosine('fire', 'hot')\n",
        "getCosine('fire', 'water')\n",
        "getCosine('fire', 'melt')\n",
        "getCosine('fire', 'cheese')\n",
        "getCosine('fire', 'elephant')\n",
        "\n",
        "\n",
        "\n",
        "getCosine('man', 'boy')\n",
        "getCosine('man', 'woman')\n",
        "getCosine('man', 'king')\n",
        "getCosine('man', 'queen')\n",
        "getCosine('man', 'cloud')"
      ],
      "execution_count": null,
      "outputs": []
    },
    {
      "cell_type": "code",
      "metadata": {
        "id": "XUzTp3xrZZza"
      },
      "source": [
        ""
      ],
      "execution_count": null,
      "outputs": []
    }
  ]
}