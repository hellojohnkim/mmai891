{
  "nbformat": 4,
  "nbformat_minor": 0,
  "metadata": {
    "colab": {
      "name": "imdb_classification_simple_deep.ipynb",
      "provenance": [],
      "collapsed_sections": [],
      "authorship_tag": "ABX9TyP1GFVIiPx9DQqgudJM30QU",
      "include_colab_link": true
    },
    "kernelspec": {
      "name": "python3",
      "display_name": "Python 3"
    },
    "accelerator": "GPU"
  },
  "cells": [
    {
      "cell_type": "markdown",
      "metadata": {
        "id": "view-in-github",
        "colab_type": "text"
      },
      "source": [
        "<a href=\"https://colab.research.google.com/github/stepthom/NLP_course/blob/main/document_classification/imdb_classification_simple_deep.ipynb\" target=\"_parent\"><img src=\"https://colab.research.google.com/assets/colab-badge.svg\" alt=\"Open In Colab\"/></a>"
      ]
    },
    {
      "cell_type": "markdown",
      "metadata": {
        "id": "U-2FEVNr_ol6"
      },
      "source": [
        "# Text Classification Slides - IMDB - Simple - Deep\r\n",
        "Predict the rating of a review, given it's text.\r\n",
        "\r\n",
        "- Stephen W. Thomas\r\n",
        "- Used for MMAI 891 and MMA/GMMA 865.\r\n",
        "- Simple version\r\n",
        "- Deep Learning approach"
      ]
    },
    {
      "cell_type": "code",
      "metadata": {
        "id": "qskkGHcXi81y"
      },
      "source": [
        "pip install simpletransformers"
      ],
      "execution_count": null,
      "outputs": []
    },
    {
      "cell_type": "code",
      "metadata": {
        "id": "X8xpQd9C_wHB"
      },
      "source": [
        "import pandas as pd"
      ],
      "execution_count": null,
      "outputs": []
    },
    {
      "cell_type": "code",
      "metadata": {
        "id": "gbM4JGECA48l"
      },
      "source": [
        "df = pd.read_csv(\"https://raw.githubusercontent.com/stepthom/NLP_course/main/data/imdb.small.csv\")\r\n",
        "df.info()"
      ],
      "execution_count": null,
      "outputs": []
    },
    {
      "cell_type": "code",
      "metadata": {
        "id": "a0gO5-d0CHoc"
      },
      "source": [
        "df.head()"
      ],
      "execution_count": null,
      "outputs": []
    },
    {
      "cell_type": "code",
      "metadata": {
        "id": "XhGhe6gMCJo5"
      },
      "source": [
        "# Transformers needs an integer, not a string\r\n",
        "df['label'] = df['rating'].apply(lambda x: 0.0 if 'negative' in x else 1.0)"
      ],
      "execution_count": null,
      "outputs": []
    },
    {
      "cell_type": "code",
      "metadata": {
        "id": "rskaoQ3fA-mG"
      },
      "source": [
        "from sklearn.model_selection import train_test_split\r\n",
        "\r\n",
        "X = df[['en', 'label']]\r\n",
        "\r\n",
        "X_train, X_test = train_test_split(X, test_size=0.2, random_state=42)\r\n",
        "\r\n",
        "print(X_train.shape)\r\n",
        "print(X_train['label'].value_counts())\r\n",
        "\r\n",
        "print(X_test.shape)\r\n",
        "print(X_test['label'].value_counts())"
      ],
      "execution_count": null,
      "outputs": []
    },
    {
      "cell_type": "code",
      "metadata": {
        "id": "Gqa_qNzGi9bn"
      },
      "source": [
        "from simpletransformers.classification import ClassificationModel, ClassificationArgs\r\n",
        "import logging\r\n",
        "\r\n",
        "logging.basicConfig(level=logging.INFO)\r\n",
        "transformers_logger = logging.getLogger(\"transformers\")\r\n",
        "transformers_logger.setLevel(logging.WARNING)"
      ],
      "execution_count": null,
      "outputs": []
    },
    {
      "cell_type": "code",
      "metadata": {
        "id": "SdPt9komA_wS"
      },
      "source": [
        "# Optional model configuration\r\n",
        "model_args = ClassificationArgs(num_train_epochs=2)\r\n",
        "\r\n",
        "# Create a ClassificationModel\r\n",
        "model = ClassificationModel(\"roberta\", \"distilroberta-base\", args=model_args, use_cuda=True)"
      ],
      "execution_count": null,
      "outputs": []
    },
    {
      "cell_type": "code",
      "metadata": {
        "id": "bfjXAISQBG4J"
      },
      "source": [
        "# Train the model\r\n",
        "model.train_model(X_train)"
      ],
      "execution_count": null,
      "outputs": []
    },
    {
      "cell_type": "code",
      "metadata": {
        "id": "KEbCBEr3BVgH"
      },
      "source": [
        "# Evaluate the model\r\n",
        "result, model_outputs, wrong_predictions = model.eval_model(X_test)"
      ],
      "execution_count": null,
      "outputs": []
    },
    {
      "cell_type": "code",
      "metadata": {
        "id": "MNWUGoP9KlMx"
      },
      "source": [
        "result"
      ],
      "execution_count": null,
      "outputs": []
    },
    {
      "cell_type": "code",
      "metadata": {
        "id": "_IKN2hxWLaac"
      },
      "source": [
        "model_outputs[1:20,]"
      ],
      "execution_count": null,
      "outputs": []
    },
    {
      "cell_type": "code",
      "metadata": {
        "id": "C-K9FsylLdbW"
      },
      "source": [
        "wrong_predictions"
      ],
      "execution_count": null,
      "outputs": []
    },
    {
      "cell_type": "code",
      "metadata": {
        "id": "AH-t1NifLfMk"
      },
      "source": [
        "predictions, raw_outputs = model.predict(['I really hated this movie. NOT!.'])\r\n",
        "print(predictions)\r\n",
        "print(raw_outputs)"
      ],
      "execution_count": null,
      "outputs": []
    },
    {
      "cell_type": "code",
      "metadata": {
        "id": "1UzcYf7cL5zE"
      },
      "source": [
        ""
      ],
      "execution_count": null,
      "outputs": []
    }
  ]
}