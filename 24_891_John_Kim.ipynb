{
  "cells": [
    {
      "cell_type": "markdown",
      "metadata": {
        "id": "view-in-github",
        "colab_type": "text"
      },
      "source": [
        "<a href=\"https://colab.research.google.com/github/hellojohnkim/mmai891/blob/main/24_891_John_Kim.ipynb\" target=\"_parent\"><img src=\"https://colab.research.google.com/assets/colab-badge.svg\" alt=\"Open In Colab\"/></a>"
      ]
    },
    {
      "cell_type": "markdown",
      "metadata": {
        "id": "HKmorPdno_n_"
      },
      "source": [
        "# MMAI 891: Individual Assignment\n",
        "\n",
        "Version 1: Updated February 4, 2024\n",
        "\n",
        "- John Kim\n",
        "- 20439250\n",
        "- MMAI 2024 891\n",
        "- Genius Makers by Cade Metz\n",
        "- Due April 21, 2024"
      ]
    },
    {
      "cell_type": "markdown",
      "metadata": {
        "id": "oZFTCX4DqmRO"
      },
      "source": [
        "# Preliminaries: Inspect and Set up environment"
      ]
    },
    {
      "cell_type": "code",
      "execution_count": 3,
      "metadata": {
        "id": "xj34Jz-Do_oK"
      },
      "outputs": [],
      "source": [
        "import datetime\n",
        "import pandas as pd\n",
        "import numpy as np"
      ]
    },
    {
      "cell_type": "code",
      "execution_count": 2,
      "metadata": {
        "colab": {
          "base_uri": "https://localhost:8080/",
          "height": 0
        },
        "id": "mqQ_XOKyXTS6",
        "outputId": "2e27ed87-72f3-43fd-c16a-8cf1fa5051c2"
      },
      "outputs": [
        {
          "output_type": "stream",
          "name": "stdout",
          "text": [
            "2024-04-20 02:03:56.397737\n"
          ]
        }
      ],
      "source": [
        "print(datetime.datetime.now())"
      ]
    },
    {
      "cell_type": "code",
      "execution_count": 3,
      "metadata": {
        "colab": {
          "base_uri": "https://localhost:8080/",
          "height": 0
        },
        "id": "LfOMt1lErLhZ",
        "outputId": "22d8d560-18bb-4947-f6a8-da0a4e5e137a"
      },
      "outputs": [
        {
          "output_type": "stream",
          "name": "stdout",
          "text": [
            "/usr/local/bin/python\n"
          ]
        }
      ],
      "source": [
        "!which python"
      ]
    },
    {
      "cell_type": "code",
      "execution_count": 4,
      "metadata": {
        "colab": {
          "base_uri": "https://localhost:8080/",
          "height": 0
        },
        "id": "aub2w1-arM5K",
        "outputId": "5b116d4a-0310-42c3-ff5d-c1f14e5bb97a"
      },
      "outputs": [
        {
          "output_type": "stream",
          "name": "stdout",
          "text": [
            "Python 3.10.12\n"
          ]
        }
      ],
      "source": [
        "!python --version"
      ]
    },
    {
      "cell_type": "code",
      "execution_count": 5,
      "metadata": {
        "colab": {
          "base_uri": "https://localhost:8080/",
          "height": 0
        },
        "id": "E9Y_n_8UrO9i",
        "outputId": "d837c54f-ae85-48c6-a230-eb3ca5eafbfd"
      },
      "outputs": [
        {
          "output_type": "stream",
          "name": "stdout",
          "text": [
            "/env/python\n"
          ]
        }
      ],
      "source": [
        "!echo $PYTHONPATH"
      ]
    },
    {
      "cell_type": "code",
      "execution_count": 6,
      "metadata": {
        "id": "-qyD7Jl0Gw1E"
      },
      "outputs": [],
      "source": [
        "# TODO: install any packages you need to here. For example:\n",
        "#pip install unidecode"
      ]
    },
    {
      "cell_type": "markdown",
      "metadata": {
        "id": "qj1NSQelo_oN"
      },
      "source": [
        "# Question 1: Sentiment Analysis via Shallow ML\n",
        "\n",
        "\n",
        "**Marking**\n",
        "\n",
        "The coding parts (i.e., 1.a, 1.b, 1.c4) will be marked based on:\n",
        "\n",
        "- *Correctness*. Code clearly and fully performs the task specified.\n",
        "- *Reproducibility*. Code is fully reproducible. I.e., you (and I) are able to run this Notebook again and again, from top to bottom, and get the same results each time.\n",
        "- *Style*. Code is organized. All parts commented with clear reasoning and rationale. No old code laying around. Code easy to follow.\n",
        "\n",
        "\n",
        "Parts 2 and 3 will be marked on:\n",
        "\n",
        "- *Quality*. Response is well-justified and convincing. Responses uses facts and data where possible.\n",
        "- *Style*. Response uses proper grammar, spelling, and punctuation. Response is clear and professional. Response is complete, but not overly-verbose. Response follows length guidelines.\n"
      ]
    },
    {
      "cell_type": "code",
      "execution_count": 4,
      "metadata": {
        "colab": {
          "base_uri": "https://localhost:8080/",
          "height": 0
        },
        "id": "60UNWiX8YmLi",
        "outputId": "dc447874-093b-40b1-c00f-e2a1a4dbc534"
      },
      "outputs": [
        {
          "output_type": "stream",
          "name": "stdout",
          "text": [
            "<class 'pandas.core.frame.DataFrame'>\n",
            "RangeIndex: 2400 entries, 0 to 2399\n",
            "Data columns (total 2 columns):\n",
            " #   Column    Non-Null Count  Dtype \n",
            "---  ------    --------------  ----- \n",
            " 0   Sentence  2400 non-null   object\n",
            " 1   Polarity  2400 non-null   int64 \n",
            "dtypes: int64(1), object(1)\n",
            "memory usage: 37.6+ KB\n"
          ]
        }
      ],
      "source": [
        "# DO NOT MODIFY THIS CELL\n",
        "\n",
        "# First, we'll read the provided labeled training data\n",
        "df = pd.read_csv(\"https://drive.google.com/uc?export=download&id=1b8MAiN-xBdk6scM-DnufkuijDZivZJqM\")\n",
        "df.info()"
      ]
    },
    {
      "cell_type": "code",
      "execution_count": 5,
      "metadata": {
        "id": "ksKqf_fV6pIO"
      },
      "outputs": [],
      "source": [
        "# DO NOT MODIFY THIS CELL\n",
        "\n",
        "# Next, we'll split it into training and test\n",
        "from sklearn.model_selection import train_test_split\n",
        "\n",
        "X = df['Sentence']\n",
        "y = df['Polarity']\n",
        "\n",
        "# So that we can evaluate how well our model is performing, we split our training data\n",
        "# into training and validation.\n",
        "\n",
        "X_train, X_val, y_train, y_val = train_test_split(X, y, random_state=42)"
      ]
    },
    {
      "cell_type": "markdown",
      "metadata": {
        "id": "R04NzckZKbG2"
      },
      "source": [
        "## Part 1.a: Preprocessing and FE Pipeline\n",
        "\n",
        "Clean and preprocess the data (i.e., `X_train`) as you see necessary. Extract features from the text (i.e., vectorization using BOW and/or Bag of N-Grams and/or topics and/or lexical features).\n"
      ]
    },
    {
      "cell_type": "code",
      "source": [
        "# Step 1 - Import Libraries\n",
        "import nltk\n",
        "from nltk.tokenize import word_tokenize\n",
        "from nltk.corpus import stopwords\n",
        "import string\n",
        "from nltk.stem import WordNetLemmatizer\n",
        "import unicodedata\n",
        "from sklearn.feature_extraction.text import TfidfVectorizer\n",
        "from nltk import pos_tag\n",
        "import pandas as pd\n",
        "\n",
        "# Download necessary NLTK resources\n",
        "nltk.download('punkt')\n",
        "nltk.download('stopwords')\n",
        "nltk.download('wordnet')\n",
        "nltk.download('averaged_perceptron_tagger')\n",
        "\n",
        "# Step 2 - Define a function to clean text\n",
        "def clean_text(text):\n",
        "    # Normalize text to Unicode form\n",
        "    text = unicodedata.normalize('NFKC', text)\n",
        "    # Tokenize text\n",
        "    tokens = word_tokenize(text)\n",
        "    # Convert to lower case\n",
        "    tokens = [w.lower() for w in tokens]\n",
        "    # Remove punctuation from each word\n",
        "    table = str.maketrans('', '', string.punctuation)\n",
        "    stripped = [w.translate(table) for w in tokens]\n",
        "    # Remove non-alphabetic tokens\n",
        "    words = [word for word in stripped if word.isalpha()]\n",
        "    # Filter out stop words\n",
        "    stop_words = set(stopwords.words('english'))\n",
        "    words = [w for w in words if not w in stop_words]\n",
        "    return ' '.join(words)\n",
        "\n",
        "# Step 3 - Extract POS Features\n",
        "def extract_pos_features(text):\n",
        "    # Tokenize the text and get POS tags\n",
        "    tokens = word_tokenize(text)\n",
        "    pos_tags = pos_tag(tokens)\n",
        "    # Count adjectives and adverbs\n",
        "    adj_adv_counts = {'ADJ': 0, 'ADV': 0}\n",
        "    for _, tag in pos_tags:\n",
        "        if tag.startswith('JJ'):  # Adjective\n",
        "            adj_adv_counts['ADJ'] += 1\n",
        "        elif tag.startswith('RB'):  # Adverb\n",
        "            adj_adv_counts['ADV'] += 1\n",
        "    return [adj_adv_counts['ADJ'], adj_adv_counts['ADV']]\n",
        "\n",
        "# Step 4 - Clean and Prepare Training Data\n",
        "X_train_cleaned = X_train.apply(clean_text)\n",
        "\n",
        "# Step 5 - Vectorization and Feature Engineering\n",
        "vectorizer = TfidfVectorizer(ngram_range=(1, 3))  # Use TF-IDF and expand n-gram range to tri-grams\n",
        "X_train_tfidf = vectorizer.fit_transform(X_train_cleaned)\n",
        "\n",
        "# Extract POS features and convert to DataFrame\n",
        "pos_features = pd.DataFrame(X_train.apply(extract_pos_features).tolist(), columns=['Num_Adjectives', 'Num_Adverbs'])\n",
        "\n",
        "# Combine TF-IDF features with POS features for the training set\n",
        "X_train_features = pd.concat([pd.DataFrame(X_train_tfidf.toarray(), columns=vectorizer.get_feature_names_out()), pos_features], axis=1)\n",
        "\n",
        "# Apply the same cleaning and feature extraction to the validation data\n",
        "X_val_cleaned = X_val.apply(clean_text)\n",
        "X_val_tfidf = vectorizer.transform(X_val_cleaned)\n",
        "\n",
        "# If you have other feature extraction processes like POS features, apply them here\n",
        "pos_features_val = pd.DataFrame(X_val.apply(extract_pos_features).tolist(), columns=['Num_Adjectives', 'Num_Adverbs'])\n",
        "X_val_features = pd.concat([pd.DataFrame(X_val_tfidf.toarray(), columns=vectorizer.get_feature_names_out()), pos_features_val], axis=1)\n",
        "\n",
        "# Ensure all feature names are strings to avoid sklearn processing errors\n",
        "X_train_features.columns = X_train_features.columns.astype(str)\n",
        "X_val_features.columns = X_val_features.columns.astype(str)\n"
      ],
      "metadata": {
        "id": "BWpgtWJjRgL9",
        "outputId": "cf974427-642e-4725-c125-99d6ac241319",
        "colab": {
          "base_uri": "https://localhost:8080/",
          "height": 0
        }
      },
      "execution_count": 6,
      "outputs": [
        {
          "output_type": "stream",
          "name": "stderr",
          "text": [
            "[nltk_data] Downloading package punkt to /root/nltk_data...\n",
            "[nltk_data]   Unzipping tokenizers/punkt.zip.\n",
            "[nltk_data] Downloading package stopwords to /root/nltk_data...\n",
            "[nltk_data]   Unzipping corpora/stopwords.zip.\n",
            "[nltk_data] Downloading package wordnet to /root/nltk_data...\n",
            "[nltk_data] Downloading package averaged_perceptron_tagger to\n",
            "[nltk_data]     /root/nltk_data...\n",
            "[nltk_data]   Unzipping taggers/averaged_perceptron_tagger.zip.\n"
          ]
        }
      ]
    },
    {
      "cell_type": "code",
      "source": [
        "# EDA Script 1: Visualize the distribution of document lengths\n",
        "import matplotlib.pyplot as plt\n",
        "\n",
        "doc_lengths = X_train_cleaned.apply(lambda x: len(x.split()))\n",
        "plt.figure(figsize=(8,6))\n",
        "plt.hist(doc_lengths, bins=30, color='skyblue')\n",
        "plt.title('Distribution of Document Lengths')\n",
        "plt.xlabel('Document Length')\n",
        "plt.ylabel('Frequency')\n",
        "plt.show()\n",
        "\n",
        "# EDA Script 2: Word Frequency Analysis\n",
        "from collections import Counter\n",
        "\n",
        "# Flatten all the cleaned text into a list of words\n",
        "all_words = [word for text in X_train_cleaned for word in text.split()]\n",
        "word_freq = Counter(all_words)\n",
        "\n",
        "# Plot the most common words\n",
        "common_words = word_freq.most_common(20)\n",
        "words, counts = zip(*common_words)\n",
        "plt.figure(figsize=(10, 8))\n",
        "plt.barh(words, counts, color='skyblue')\n",
        "plt.xlabel('Frequency')\n",
        "plt.ylabel('Words')\n",
        "plt.title('Top 20 Most Frequent Words')\n",
        "plt.gca().invert_yaxis()\n",
        "plt.show()\n",
        "\n",
        "# EDA Script 3: Visualize the distribution of TF-IDF values\n",
        "import seaborn as sns\n",
        "\n",
        "tfidf_df = pd.DataFrame(X_train_tfidf.toarray(), columns=vectorizer.get_feature_names_out())\n",
        "tfidf_means = tfidf_df.mean(axis=0).sort_values(ascending=False)[:20]\n",
        "\n",
        "plt.figure(figsize=(10, 8))\n",
        "sns.barplot(x=tfidf_means.values, y=tfidf_means.index, color='skyblue')\n",
        "plt.xlabel('Average TF-IDF Score')\n",
        "plt.ylabel('Terms')\n",
        "plt.title('Top 20 terms with highest average TF-IDF score')\n",
        "plt.show()\n",
        "\n",
        "# EDA Script 4: POS Tag Distribution\n",
        "pos_counts = pos_features.sum(axis=0)\n",
        "plt.figure(figsize=(8, 6))\n",
        "pos_counts.plot(kind='bar', color='skyblue')\n",
        "plt.title('Distribution of Part-of-Speech Tags')\n",
        "plt.xlabel('POS Tag')\n",
        "plt.ylabel('Frequency')\n",
        "plt.xticks(rotation=0)\n",
        "plt.show()\n"
      ],
      "metadata": {
        "id": "u8V1aWS2yp3H",
        "outputId": "acadc977-aad3-4664-dedf-cc39d4294ea5",
        "colab": {
          "base_uri": "https://localhost:8080/",
          "height": 1000
        }
      },
      "execution_count": 30,
      "outputs": [
        {
          "output_type": "display_data",
          "data": {
            "text/plain": [
              "<Figure size 800x600 with 1 Axes>"
            ],
            "image/png": "[encoded data removed]"
          },
          "metadata": {}
        },
        {
          "output_type": "display_data",
          "data": {
            "text/plain": [
              "<Figure size 1000x800 with 1 Axes>"
            ],
            "image/png": "[encoded data removed]"
          },
          "metadata": {}
        },
        {
          "output_type": "display_data",
          "data": {
            "text/plain": [
              "<Figure size 1000x800 with 1 Axes>"
            ],
            "image/png": "[encoded data removed]"
          },
          "metadata": {}
        },
        {
          "output_type": "display_data",
          "data": {
            "text/plain": [
              "<Figure size 800x600 with 1 Axes>"
            ],
            "image/png": "[encoded data removed]"
          },
          "metadata": {}
        }
      ]
    },
    {
      "cell_type": "markdown",
      "metadata": {
        "id": "m7FIkMnao_oO"
      },
      "source": [
        "## Part 1.b: Model Training/Tuning/Cross Validation\n",
        "\n",
        "Use your favorite shallow ML algorithm (such as decision trees, KNN, random forest, boosting variants) to train a classification model.  Don’t forget everything we’ve learned in the machine learning course: hyperparameter tuning, cross-validation, handling imbalanced data, etc. Make reasonable decisions and try to create the best-performing model that you can.\n"
      ]
    },
    {
      "cell_type": "code",
      "execution_count": 9,
      "metadata": {
        "id": "cgek8ghwo_oP",
        "colab": {
          "base_uri": "https://localhost:8080/",
          "height": 0
        },
        "outputId": "3530363a-e264-4514-f86d-5a1dc0603e15"
      },
      "outputs": [
        {
          "output_type": "stream",
          "name": "stderr",
          "text": [
            "[I 2024-04-20 12:56:19,583] A new study created in memory with name: no-name-489ba127-a7e6-4428-8a22-1606b8156545\n",
            "[I 2024-04-20 13:02:23,128] Trial 0 finished with value: 0.7350000000000001 and parameters: {'xgb__max_depth': 6, 'xgb__learning_rate': 0.06513627191334351, 'xgb__n_estimators': 150, 'xgb__scale_pos_weight': 1}. Best is trial 0 with value: 0.7350000000000001.\n",
            "[I 2024-04-20 13:07:40,593] Trial 1 finished with value: 0.7327777777777779 and parameters: {'xgb__max_depth': 8, 'xgb__learning_rate': 0.052047965433896566, 'xgb__n_estimators': 117, 'xgb__scale_pos_weight': 1}. Best is trial 0 with value: 0.7350000000000001.\n",
            "[I 2024-04-20 13:13:37,929] Trial 2 finished with value: 0.7422222222222222 and parameters: {'xgb__max_depth': 8, 'xgb__learning_rate': 0.07316386510863222, 'xgb__n_estimators': 147, 'xgb__scale_pos_weight': 0.978021978021978}. Best is trial 2 with value: 0.7422222222222222.\n",
            "[I 2024-04-20 13:19:02,014] Trial 3 finished with value: 0.7311111111111112 and parameters: {'xgb__max_depth': 4, 'xgb__learning_rate': 0.07480490225801999, 'xgb__n_estimators': 130, 'xgb__scale_pos_weight': 0.978021978021978}. Best is trial 2 with value: 0.7422222222222222.\n",
            "[I 2024-04-20 13:24:04,944] Trial 4 finished with value: 0.7266666666666668 and parameters: {'xgb__max_depth': 8, 'xgb__learning_rate': 0.03530946735129074, 'xgb__n_estimators': 108, 'xgb__scale_pos_weight': 1}. Best is trial 2 with value: 0.7422222222222222.\n",
            "[I 2024-04-20 13:28:59,625] Trial 5 finished with value: 0.7300000000000001 and parameters: {'xgb__max_depth': 10, 'xgb__learning_rate': 0.040497463889817835, 'xgb__n_estimators': 99, 'xgb__scale_pos_weight': 0.978021978021978}. Best is trial 2 with value: 0.7422222222222222.\n",
            "[I 2024-04-20 13:34:30,900] Trial 6 finished with value: 0.7244444444444446 and parameters: {'xgb__max_depth': 4, 'xgb__learning_rate': 0.04152243401244463, 'xgb__n_estimators': 139, 'xgb__scale_pos_weight': 0.978021978021978}. Best is trial 2 with value: 0.7422222222222222.\n",
            "[I 2024-04-20 13:39:16,838] Trial 7 finished with value: 0.7155555555555555 and parameters: {'xgb__max_depth': 3, 'xgb__learning_rate': 0.02887284011609629, 'xgb__n_estimators': 105, 'xgb__scale_pos_weight': 1}. Best is trial 2 with value: 0.7422222222222222.\n",
            "[I 2024-04-20 13:44:10,553] Trial 8 finished with value: 0.7150000000000001 and parameters: {'xgb__max_depth': 7, 'xgb__learning_rate': 0.014754066577257917, 'xgb__n_estimators': 99, 'xgb__scale_pos_weight': 0.978021978021978}. Best is trial 2 with value: 0.7422222222222222.\n",
            "[I 2024-04-20 13:48:15,413] Trial 9 finished with value: 0.7133333333333333 and parameters: {'xgb__max_depth': 5, 'xgb__learning_rate': 0.014310237920203698, 'xgb__n_estimators': 70, 'xgb__scale_pos_weight': 1}. Best is trial 2 with value: 0.7422222222222222.\n",
            "[I 2024-04-20 13:52:10,992] Trial 10 finished with value: 0.7311111111111112 and parameters: {'xgb__max_depth': 10, 'xgb__learning_rate': 0.0918960220228143, 'xgb__n_estimators': 53, 'xgb__scale_pos_weight': 0.978021978021978}. Best is trial 2 with value: 0.7422222222222222.\n",
            "[I 2024-04-20 13:58:07,248] Trial 11 finished with value: 0.7388888888888889 and parameters: {'xgb__max_depth': 6, 'xgb__learning_rate': 0.07186589393002145, 'xgb__n_estimators': 148, 'xgb__scale_pos_weight': 1}. Best is trial 2 with value: 0.7422222222222222.\n",
            "[I 2024-04-20 14:04:11,392] Trial 12 finished with value: 0.7411111111111112 and parameters: {'xgb__max_depth': 8, 'xgb__learning_rate': 0.08426692896486897, 'xgb__n_estimators': 150, 'xgb__scale_pos_weight': 1}. Best is trial 2 with value: 0.7422222222222222.\n",
            "[I 2024-04-20 14:09:37,964] Trial 13 finished with value: 0.7411111111111112 and parameters: {'xgb__max_depth': 8, 'xgb__learning_rate': 0.098609167026708, 'xgb__n_estimators': 126, 'xgb__scale_pos_weight': 0.978021978021978}. Best is trial 2 with value: 0.7422222222222222.\n",
            "[I 2024-04-20 14:14:08,390] Trial 14 finished with value: 0.7344444444444445 and parameters: {'xgb__max_depth': 9, 'xgb__learning_rate': 0.0828114436465433, 'xgb__n_estimators': 82, 'xgb__scale_pos_weight': 0.978021978021978}. Best is trial 2 with value: 0.7422222222222222.\n",
            "[I 2024-04-20 14:19:46,504] Trial 15 finished with value: 0.7366666666666667 and parameters: {'xgb__max_depth': 7, 'xgb__learning_rate': 0.06185500275576222, 'xgb__n_estimators': 135, 'xgb__scale_pos_weight': 1}. Best is trial 2 with value: 0.7422222222222222.\n",
            "[I 2024-04-20 14:25:04,894] Trial 16 finished with value: 0.7405555555555556 and parameters: {'xgb__max_depth': 9, 'xgb__learning_rate': 0.08369654869588505, 'xgb__n_estimators': 118, 'xgb__scale_pos_weight': 0.978021978021978}. Best is trial 2 with value: 0.7422222222222222.\n",
            "[I 2024-04-20 14:30:53,526] Trial 17 finished with value: 0.7372222222222222 and parameters: {'xgb__max_depth': 9, 'xgb__learning_rate': 0.053650639206425745, 'xgb__n_estimators': 139, 'xgb__scale_pos_weight': 1}. Best is trial 2 with value: 0.7422222222222222.\n",
            "[I 2024-04-20 14:35:24,073] Trial 18 finished with value: 0.7316666666666667 and parameters: {'xgb__max_depth': 7, 'xgb__learning_rate': 0.0821978016189411, 'xgb__n_estimators': 83, 'xgb__scale_pos_weight': 0.978021978021978}. Best is trial 2 with value: 0.7422222222222222.\n",
            "[I 2024-04-20 14:41:22,525] Trial 19 finished with value: 0.7427777777777778 and parameters: {'xgb__max_depth': 8, 'xgb__learning_rate': 0.0994345107025079, 'xgb__n_estimators': 150, 'xgb__scale_pos_weight': 1}. Best is trial 19 with value: 0.7427777777777778.\n",
            "[I 2024-04-20 14:46:39,526] Trial 20 finished with value: 0.7383333333333334 and parameters: {'xgb__max_depth': 6, 'xgb__learning_rate': 0.09852797551630077, 'xgb__n_estimators': 121, 'xgb__scale_pos_weight': 0.978021978021978}. Best is trial 19 with value: 0.7427777777777778.\n",
            "[I 2024-04-20 14:52:36,410] Trial 21 finished with value: 0.7483333333333333 and parameters: {'xgb__max_depth': 8, 'xgb__learning_rate': 0.08991829913718742, 'xgb__n_estimators': 149, 'xgb__scale_pos_weight': 1}. Best is trial 21 with value: 0.7483333333333333.\n",
            "[I 2024-04-20 14:58:25,931] Trial 22 finished with value: 0.7455555555555555 and parameters: {'xgb__max_depth': 9, 'xgb__learning_rate': 0.0877674521117793, 'xgb__n_estimators': 141, 'xgb__scale_pos_weight': 1}. Best is trial 21 with value: 0.7483333333333333.\n",
            "[I 2024-04-20 15:04:10,422] Trial 23 finished with value: 0.7438888888888889 and parameters: {'xgb__max_depth': 9, 'xgb__learning_rate': 0.09120123452791506, 'xgb__n_estimators': 139, 'xgb__scale_pos_weight': 1}. Best is trial 21 with value: 0.7483333333333333.\n",
            "[I 2024-04-20 15:09:56,730] Trial 24 finished with value: 0.7394444444444445 and parameters: {'xgb__max_depth': 10, 'xgb__learning_rate': 0.09077518732722548, 'xgb__n_estimators': 138, 'xgb__scale_pos_weight': 1}. Best is trial 21 with value: 0.7483333333333333.\n",
            "[I 2024-04-20 15:15:28,388] Trial 25 finished with value: 0.745 and parameters: {'xgb__max_depth': 9, 'xgb__learning_rate': 0.09074148381386879, 'xgb__n_estimators': 130, 'xgb__scale_pos_weight': 1}. Best is trial 21 with value: 0.7483333333333333.\n",
            "[I 2024-04-20 15:20:58,202] Trial 26 finished with value: 0.74 and parameters: {'xgb__max_depth': 9, 'xgb__learning_rate': 0.07766301824091998, 'xgb__n_estimators': 127, 'xgb__scale_pos_weight': 1}. Best is trial 21 with value: 0.7483333333333333.\n",
            "[I 2024-04-20 15:26:10,904] Trial 27 finished with value: 0.735 and parameters: {'xgb__max_depth': 10, 'xgb__learning_rate': 0.06122350229851763, 'xgb__n_estimators': 112, 'xgb__scale_pos_weight': 1}. Best is trial 21 with value: 0.7483333333333333.\n",
            "[I 2024-04-20 15:31:48,493] Trial 28 finished with value: 0.7466666666666667 and parameters: {'xgb__max_depth': 9, 'xgb__learning_rate': 0.08859868365044035, 'xgb__n_estimators': 130, 'xgb__scale_pos_weight': 1}. Best is trial 21 with value: 0.7483333333333333.\n",
            "[I 2024-04-20 15:37:36,882] Trial 29 finished with value: 0.7372222222222222 and parameters: {'xgb__max_depth': 7, 'xgb__learning_rate': 0.0671385648882214, 'xgb__n_estimators': 144, 'xgb__scale_pos_weight': 1}. Best is trial 21 with value: 0.7483333333333333.\n",
            "[I 2024-04-20 15:43:20,051] Trial 30 finished with value: 0.7433333333333333 and parameters: {'xgb__max_depth': 10, 'xgb__learning_rate': 0.06744127851116655, 'xgb__n_estimators': 132, 'xgb__scale_pos_weight': 1}. Best is trial 21 with value: 0.7483333333333333.\n",
            "[I 2024-04-20 15:48:46,761] Trial 31 finished with value: 0.7433333333333334 and parameters: {'xgb__max_depth': 9, 'xgb__learning_rate': 0.08982893570076317, 'xgb__n_estimators': 124, 'xgb__scale_pos_weight': 1}. Best is trial 21 with value: 0.7483333333333333.\n",
            "[I 2024-04-20 15:54:25,920] Trial 32 finished with value: 0.7388888888888889 and parameters: {'xgb__max_depth': 9, 'xgb__learning_rate': 0.09377774014501501, 'xgb__n_estimators': 133, 'xgb__scale_pos_weight': 1}. Best is trial 21 with value: 0.7483333333333333.\n",
            "[I 2024-04-20 16:00:13,207] Trial 33 finished with value: 0.7416666666666667 and parameters: {'xgb__max_depth': 8, 'xgb__learning_rate': 0.07879679621245297, 'xgb__n_estimators': 141, 'xgb__scale_pos_weight': 1}. Best is trial 21 with value: 0.7483333333333333.\n",
            "[I 2024-04-20 16:05:23,493] Trial 34 finished with value: 0.7416666666666667 and parameters: {'xgb__max_depth': 8, 'xgb__learning_rate': 0.08699158747909899, 'xgb__n_estimators': 112, 'xgb__scale_pos_weight': 1}. Best is trial 21 with value: 0.7483333333333333.\n",
            "[I 2024-04-20 16:11:21,040] Trial 35 finished with value: 0.7422222222222221 and parameters: {'xgb__max_depth': 9, 'xgb__learning_rate': 0.07260064655966006, 'xgb__n_estimators': 144, 'xgb__scale_pos_weight': 1}. Best is trial 21 with value: 0.7483333333333333.\n",
            "[I 2024-04-20 16:16:58,730] Trial 36 finished with value: 0.741111111111111 and parameters: {'xgb__max_depth': 10, 'xgb__learning_rate': 0.07781220547024063, 'xgb__n_estimators': 129, 'xgb__scale_pos_weight': 1}. Best is trial 21 with value: 0.7483333333333333.\n",
            "[I 2024-04-20 16:22:14,360] Trial 37 finished with value: 0.7366666666666667 and parameters: {'xgb__max_depth': 8, 'xgb__learning_rate': 0.0954413073845345, 'xgb__n_estimators': 117, 'xgb__scale_pos_weight': 1}. Best is trial 21 with value: 0.7483333333333333.\n",
            "[I 2024-04-20 16:28:09,349] Trial 38 finished with value: 0.7444444444444445 and parameters: {'xgb__max_depth': 7, 'xgb__learning_rate': 0.08691314500253752, 'xgb__n_estimators': 143, 'xgb__scale_pos_weight': 1}. Best is trial 21 with value: 0.7483333333333333.\n",
            "[I 2024-04-20 16:33:02,457] Trial 39 finished with value: 0.7277777777777777 and parameters: {'xgb__max_depth': 8, 'xgb__learning_rate': 0.05869034193159367, 'xgb__n_estimators': 94, 'xgb__scale_pos_weight': 1}. Best is trial 21 with value: 0.7483333333333333.\n",
            "[I 2024-04-20 16:38:40,226] Trial 40 finished with value: 0.7255555555555556 and parameters: {'xgb__max_depth': 5, 'xgb__learning_rate': 0.04556455693407839, 'xgb__n_estimators': 135, 'xgb__scale_pos_weight': 1}. Best is trial 21 with value: 0.7483333333333333.\n",
            "[I 2024-04-20 16:44:33,165] Trial 41 finished with value: 0.7427777777777778 and parameters: {'xgb__max_depth': 7, 'xgb__learning_rate': 0.08783740783448479, 'xgb__n_estimators': 143, 'xgb__scale_pos_weight': 1}. Best is trial 21 with value: 0.7483333333333333.\n",
            "[I 2024-04-20 16:50:35,431] Trial 42 finished with value: 0.7438888888888889 and parameters: {'xgb__max_depth': 9, 'xgb__learning_rate': 0.09478727019221646, 'xgb__n_estimators': 145, 'xgb__scale_pos_weight': 1}. Best is trial 21 with value: 0.7483333333333333.\n",
            "[I 2024-04-20 16:56:12,190] Trial 43 finished with value: 0.7411111111111112 and parameters: {'xgb__max_depth': 7, 'xgb__learning_rate': 0.08631017130210135, 'xgb__n_estimators': 131, 'xgb__scale_pos_weight': 1}. Best is trial 21 with value: 0.7483333333333333.\n",
            "[I 2024-04-20 17:01:40,875] Trial 44 finished with value: 0.7383333333333334 and parameters: {'xgb__max_depth': 8, 'xgb__learning_rate': 0.0803606328442129, 'xgb__n_estimators': 122, 'xgb__scale_pos_weight': 1}. Best is trial 21 with value: 0.7483333333333333.\n",
            "[I 2024-04-20 17:07:47,229] Trial 45 finished with value: 0.7238888888888889 and parameters: {'xgb__max_depth': 6, 'xgb__learning_rate': 0.02226931549570564, 'xgb__n_estimators': 147, 'xgb__scale_pos_weight': 1}. Best is trial 21 with value: 0.7483333333333333.\n",
            "[I 2024-04-20 17:13:28,871] Trial 46 finished with value: 0.7333333333333333 and parameters: {'xgb__max_depth': 5, 'xgb__learning_rate': 0.07497393994438897, 'xgb__n_estimators': 137, 'xgb__scale_pos_weight': 1}. Best is trial 21 with value: 0.7483333333333333.\n",
            "[I 2024-04-20 17:17:19,252] Trial 47 finished with value: 0.725 and parameters: {'xgb__max_depth': 8, 'xgb__learning_rate': 0.07067628591359718, 'xgb__n_estimators': 50, 'xgb__scale_pos_weight': 1}. Best is trial 21 with value: 0.7483333333333333.\n",
            "[I 2024-04-20 17:22:14,845] Trial 48 finished with value: 0.7227777777777779 and parameters: {'xgb__max_depth': 3, 'xgb__learning_rate': 0.048485903573411156, 'xgb__n_estimators': 105, 'xgb__scale_pos_weight': 1}. Best is trial 21 with value: 0.7483333333333333.\n",
            "[I 2024-04-20 17:28:26,317] Trial 49 finished with value: 0.7405555555555556 and parameters: {'xgb__max_depth': 10, 'xgb__learning_rate': 0.0947662477425722, 'xgb__n_estimators': 150, 'xgb__scale_pos_weight': 1}. Best is trial 21 with value: 0.7483333333333333.\n"
          ]
        },
        {
          "output_type": "stream",
          "name": "stdout",
          "text": [
            "Accuracy: 0.7483333333333333\n",
            "Best hyperparameters: {'xgb__max_depth': 8, 'xgb__learning_rate': 0.08991829913718742, 'xgb__n_estimators': 149, 'xgb__scale_pos_weight': 1}\n"
          ]
        }
      ],
      "source": [
        "import optuna\n",
        "from sklearn.metrics import accuracy_score\n",
        "from sklearn.model_selection import cross_val_score, StratifiedKFold\n",
        "from sklearn.ensemble import RandomForestClassifier, AdaBoostClassifier, BaggingClassifier\n",
        "from sklearn.linear_model import LogisticRegression\n",
        "from xgboost import XGBClassifier\n",
        "from sklearn.ensemble import StackingClassifier\n",
        "import joblib\n",
        "\n",
        "# Prepare classifiers\n",
        "log_reg = LogisticRegression(random_state=42, max_iter=100)\n",
        "dtree = RandomForestClassifier(random_state=42, n_estimators=50, max_depth=5)\n",
        "bagging = BaggingClassifier(estimator=dtree, n_estimators=5, random_state=42)\n",
        "boosting = AdaBoostClassifier(n_estimators=50, random_state=42)\n",
        "xgboost = XGBClassifier(objective='binary:logistic', random_state=42)\n",
        "\n",
        "# Define an objective function to be minimized.\n",
        "def objective(trial):\n",
        "    # Hyperparameter setting\n",
        "    xgb_params = {\n",
        "        'max_depth': trial.suggest_int('xgb__max_depth', 3, 10),\n",
        "        'learning_rate': trial.suggest_float('xgb__learning_rate', 0.01, 0.1),\n",
        "        'n_estimators': trial.suggest_int('xgb__n_estimators', 50, 150),\n",
        "        'scale_pos_weight': trial.suggest_categorical('xgb__scale_pos_weight', [1, sum(y_train == 0) / sum(y_train == 1)])\n",
        "    }\n",
        "\n",
        "    xgb = XGBClassifier(**xgb_params, random_state=42)\n",
        "\n",
        "    # Stack classifiers including the tuned XGBoost\n",
        "    estimators = [\n",
        "        ('rf', dtree),\n",
        "        ('bg', bagging),\n",
        "        ('adb', boosting),\n",
        "        ('xgb', xgb)  # Use the tuned XGBoost\n",
        "    ]\n",
        "    stacking_clf = StackingClassifier(estimators=estimators, final_estimator=log_reg, stack_method='auto', n_jobs=-1)\n",
        "\n",
        "    # Cross-validation scores\n",
        "    kf = StratifiedKFold(n_splits=5, shuffle=True, random_state=42)\n",
        "    scores = cross_val_score(stacking_clf, X_train_features, y_train, cv=kf, scoring='accuracy')\n",
        "\n",
        "    return scores.mean()\n",
        "\n",
        "# Create a study object and optimize the objective function.\n",
        "study = optuna.create_study(direction='maximize')\n",
        "study.optimize(objective, n_trials=50)\n",
        "\n",
        "# Best trial\n",
        "trial = study.best_trial\n",
        "print(f'Accuracy: {trial.value}')\n",
        "print(\"Best hyperparameters: {}\".format(trial.params))\n",
        "\n",
        "# Rebuild the model with the best parameters\n",
        "xgb_best = XGBClassifier(**trial.params, objective='binary:logistic', random_state=42)\n",
        "stacking_clf_best = StackingClassifier(estimators=[\n",
        "        ('rf', dtree),\n",
        "        ('bg', bagging),\n",
        "        ('adb', boosting),\n",
        "        ('xgb', xgb_best)\n",
        "    ], final_estimator=log_reg, stack_method='auto', n_jobs=-1)\n",
        "\n",
        "# Fit the best model\n",
        "stacking_clf_best.fit(X_train_features, y_train)\n",
        "\n",
        "\n",
        "# Save the model to disk\n",
        "joblib.dump(stacking_clf_best, 'stacking_clf_best.joblib')\n",
        "\n",
        "# Validate model\n",
        "y_pred = stacking_clf_best.predict(X_val_features)\n",
        "y_proba = stacking_clf_best.predict_proba(X_val_features)[:, 1]\n",
        "\n"
      ]
    },
    {
      "cell_type": "code",
      "source": [
        "from sklearn.metrics import accuracy_score, precision_recall_fscore_support, roc_auc_score , classification_report, confusion_matrix\n",
        "\n",
        "# Evaluation metrics\n",
        "accuracy = accuracy_score(y_val, y_pred)\n",
        "precision, recall, f1, _ = precision_recall_fscore_support(y_val, y_pred, average='binary')\n",
        "roc_auc = roc_auc_score(y_val, y_proba)\n",
        "\n",
        "print(f\"Accuracy: {accuracy}\")\n",
        "print(f\"Precision: {precision}\")\n",
        "print(f\"Recall: {recall}\")\n",
        "print(f\"F1-Score: {f1}\")\n",
        "print(f\"ROC-AUC: {roc_auc}\")"
      ],
      "metadata": {
        "colab": {
          "base_uri": "https://localhost:8080/",
          "height": 0
        },
        "id": "LmPkdOrMkoCx",
        "outputId": "cc1d7275-dd64-4dd5-de0a-feb7a7b7b66d"
      },
      "execution_count": 10,
      "outputs": [
        {
          "output_type": "stream",
          "name": "stdout",
          "text": [
            "Accuracy: 0.7833333333333333\n",
            "Precision: 0.7692307692307693\n",
            "Recall: 0.7581227436823105\n",
            "F1-Score: 0.7636363636363637\n",
            "ROC-AUC: 0.8645203473751271\n"
          ]
        }
      ]
    },
    {
      "cell_type": "markdown",
      "metadata": {
        "id": "RjUgRW1N6ppS"
      },
      "source": [
        "## Part 1.c: Model Assessment\n",
        "\n",
        "Use your model to predict the sentiment of the testing data. Measure the performance (e.g., accuracy, AUC, F1-score) of your model."
      ]
    },
    {
      "cell_type": "code",
      "execution_count": 12,
      "metadata": {
        "colab": {
          "base_uri": "https://localhost:8080/",
          "height": 0
        },
        "id": "QYlrWng9MqmL",
        "outputId": "a32712b1-9314-4b01-9290-f42fc4b07724"
      },
      "outputs": [
        {
          "output_type": "stream",
          "name": "stdout",
          "text": [
            "<class 'pandas.core.frame.DataFrame'>\n",
            "RangeIndex: 600 entries, 0 to 599\n",
            "Data columns (total 2 columns):\n",
            " #   Column    Non-Null Count  Dtype \n",
            "---  ------    --------------  ----- \n",
            " 0   Sentence  600 non-null    object\n",
            " 1   Polarity  600 non-null    int64 \n",
            "dtypes: int64(1), object(1)\n",
            "memory usage: 9.5+ KB\n"
          ]
        }
      ],
      "source": [
        "# DO NOT MODIFY THIS CELL\n",
        "\n",
        "test_df = pd.read_csv(\"https://drive.google.com/uc?export=download&id=1taoTluPBUMt9JkKAnlqDTrU49DJFpJGW\")\n",
        "test_df.info()"
      ]
    },
    {
      "cell_type": "code",
      "source": [
        "# Apply the clean_text function to clean the test data\n",
        "test_df['cleaned_text'] = test_df['Sentence'].apply(clean_text)\n",
        "\n",
        "# Transform the cleaned test text using the previously fitted TfidfVectorizer\n",
        "X_test_tfidf = vectorizer.transform(test_df['cleaned_text'])\n",
        "\n",
        "# Extract POS features from the test data\n",
        "pos_features_test = pd.DataFrame(test_df['cleaned_text'].apply(extract_pos_features).tolist(), columns=['Num_Adjectives', 'Num_Adverbs'])\n",
        "\n",
        "# Combine TF-IDF features with POS features for the test set\n",
        "X_test_features = pd.concat([pd.DataFrame(X_test_tfidf.toarray(), columns=vectorizer.get_feature_names_out()), pos_features_test], axis=1)\n",
        "\n",
        "# Ensure all feature names are strings to avoid sklearn processing errors\n",
        "X_test_features.columns = X_test_features.columns.astype(str)\n",
        "\n",
        "# Now, you can use the model to predict the transformed test data\n",
        "try:\n",
        "    y_test_pred = stacking_clf_best.predict(X_test_features)\n",
        "    y_test_proba = stacking_clf_best.predict_proba(X_test_features)[:, 1]\n",
        "\n",
        "    # Calculate and print metrics\n",
        "    accuracy = accuracy_score(test_df['Polarity'], y_test_pred)\n",
        "    precision = precision_score(test_df['Polarity'], y_test_pred)\n",
        "    recall = recall_score(test_df['Polarity'], y_test_pred)\n",
        "    f1 = f1_score(test_df['Polarity'], y_test_pred)\n",
        "    roc_auc = roc_auc_score(test_df['Polarity'], y_test_proba)\n",
        "\n",
        "    print(f\"Accuracy: {accuracy}\")\n",
        "    print(f\"Precision: {precision}\")\n",
        "    print(f\"Recall: {recall}\")\n",
        "    print(f\"F1 Score: {f1}\")\n",
        "    print(f\"ROC AUC: {roc_auc}\")\n",
        "except Exception as e:\n",
        "    print(f\"An error occurred: {e}\")\n"
      ],
      "metadata": {
        "id": "5Yo1V2JVuTpQ",
        "colab": {
          "base_uri": "https://localhost:8080/",
          "height": 0
        },
        "outputId": "75309414-5649-47cb-8cac-38eddaa4efc1"
      },
      "execution_count": 23,
      "outputs": [
        {
          "output_type": "stream",
          "name": "stdout",
          "text": [
            "Accuracy: 0.6933333333333334\n",
            "Precision: 0.7471264367816092\n",
            "Recall: 0.6230031948881789\n",
            "F1 Score: 0.6794425087108015\n",
            "ROC AUC: 0.7799646001936972\n"
          ]
        }
      ]
    },
    {
      "cell_type": "markdown",
      "metadata": {
        "id": "6wUBcyrdM3__"
      },
      "source": [
        "## Part 2: Given the performance of your model, are you satisfied with the results? Explain.\n",
        "\n",
        "Keep your response to 1000 characters or less."
      ]
    },
    {
      "cell_type": "markdown",
      "metadata": {
        "id": "4oCr-mTfNG-H"
      },
      "source": [
        "The model's performance, while reasonable, calls for improvement. Accuracy (69.33%) and precision (74.71%) are decent, yet a low recall (62.30%) suggests missed positive sentiments. An F1 score of 67.94% and ROC AUC of 77.99% reveal potential for growth. To bolster the model's capabilities, advanced NLP features, refined tuning, and diverse ensemble methods are recommended. The aim is to enhance understanding and predictive accuracy, with these results guiding targeted enhancements."
      ]
    },
    {
      "cell_type": "markdown",
      "metadata": {
        "id": "Sz8dTvnJNKLL"
      },
      "source": [
        "## Part 3: Show five test instances in which your model was incorrect. Dive deep and find out why your model was wrong.\n",
        "\n",
        "Keep your response to 1000 characters or less."
      ]
    },
    {
      "cell_type": "code",
      "source": [
        "##Step 1: Identify Misclassified Instances\n",
        "\n",
        "# Add predictions to the test dataframe\n",
        "test_df['predicted_polarity'] = y_test_pred\n",
        "\n",
        "# Find instances where the predicted polarity does not match the actual polarity\n",
        "misclassified = test_df[test_df['Polarity'] != test_df['predicted_polarity']]\n"
      ],
      "metadata": {
        "id": "Pu4HgEBZuqMC"
      },
      "execution_count": 20,
      "outputs": []
    },
    {
      "cell_type": "code",
      "source": [
        "#Step 2: Display Five Misclassified Instances\n",
        "# Randomly sample 5 misclassified instances for analysis\n",
        "misclassified_samples = misclassified.sample(n=5, random_state=42)\n",
        "print(misclassified_samples)"
      ],
      "metadata": {
        "id": "iRFiJreXuv5g",
        "outputId": "b8e78d98-e41f-4cad-928c-475dbb2ea9d4",
        "colab": {
          "base_uri": "https://localhost:8080/",
          "height": 0
        }
      },
      "execution_count": 21,
      "outputs": [
        {
          "output_type": "stream",
          "name": "stdout",
          "text": [
            "                                              Sentence  Polarity  \\\n",
            "87   Lifetime does not air it enough, so if anyone ...         1   \n",
            "178  With the originality and freshness of the firs...         0   \n",
            "531  I do not know if this was Emilio Estevez's dir...         1   \n",
            "394                Predictable, but not a bad watch.           1   \n",
            "505  One of the most boring,pointless movies I have...         0   \n",
            "\n",
            "                                          cleaned_text  predicted_polarity  \n",
            "87   lifetime air enough anyone knows store sells l...                   0  \n",
            "178  originality freshness first movie spent remake...                   1  \n",
            "531  know emilio estevez directorial debut pacing i...                   0  \n",
            "394                              predictable bad watch                   0  \n",
            "505              one boring pointless movies ever seen                   1  \n"
          ]
        }
      ]
    },
    {
      "cell_type": "markdown",
      "source": [
        "\n",
        "- Index 87: Mixed sentiments with negative (\"not air enough\") and strong positive desire (\"must-have\"). The model likely missed the key positive phrase.\n",
        "- Index 178: Sentence carries a negative sentiment (\"little else to offer\") despite positive words (\"originality\", \"freshness\"). Model might have misinterpreted the positive words.\n",
        "- Index 531: Uncertainty in recognizing Estevez's role (negative) contrasts with praise for film elements (positive). Complexity may have confused the model.\n",
        "- Index 394: \"Predictable\" hints at negative sentiment but is mitigated by \"not a bad watch\" (mildly positive). Model may have overemphasized the word \"Predictable\".\n",
        "- Index 505: Clearly negative sentiment misclassified as positive. Possible reasons: training data imbalance or misinterpretation of \"one of the most\"."
      ],
      "metadata": {
        "id": "CF8bJAHCwFBq"
      }
    },
    {
      "cell_type": "markdown",
      "metadata": {
        "id": "W2nBXXwBQaFk"
      },
      "source": [
        "# Question 2: Conceptual Understanding of the SOTA\n",
        "\n",
        "\n",
        "**Marking**\n",
        "\n",
        "The following questions will be marked on:\n",
        "\n",
        "- *Quality*. Response is well-justified and convincing. Responses uses facts and data where possible.\n",
        "- *Style*. Response uses proper grammar, spelling, and punctuation. Response is clear and professional. Response is complete, but not overly-verbose. Response follows length guidelines.\n"
      ]
    },
    {
      "cell_type": "markdown",
      "metadata": {
        "id": "4hmLwD6-Qs3U"
      },
      "source": [
        "## Part 1: What is transfer learning and fine-tuning in NLP? What advantages does it have over training from scratch?\n"
      ]
    },
    {
      "cell_type": "markdown",
      "source": [
        "In the domain of NLP, transfer learning is a strategic approach where we utilize a model pre-trained on extensive datasets and tailor it to our specific needs. Fine-tuning further refines this process by adjusting the model to the intricacies of our targeted task. This methodology stands out for its efficiency, requiring significantly less time and data to achieve high-quality outcomes compared to traditional models built from the ground up. It leverages the foundational language understanding already embedded in the pre-trained model, providing a robust starting point and facilitating enhanced performance, even in data-scarce scenarios. This approach not only streamlines the development process but also amplifies the potential for innovative solutions in the field of NLP.\n",
        "\n",
        "characters: 789"
      ],
      "metadata": {
        "id": "SyxRytnhL4sp"
      }
    },
    {
      "cell_type": "markdown",
      "metadata": {
        "id": "oorJvilBQ2g1"
      },
      "source": [
        "## Part 2: What is a Large Language Model (LLM) and what are their strengths and weaknesses?\n"
      ]
    },
    {
      "cell_type": "markdown",
      "source": [
        "A Large Language Model (LLM) excels in generating human-like text, understanding context, and performing diverse tasks in natural language. Strengths include their versatility across various applications, deep language understanding, and adaptability to specific domains via fine-tuning. However, LLMs face challenges like data bias, which can perpetuate ethical issues, and interpretability problems, complicating error analysis. They also demand significant computational resources, impacting accessibility and the environment. Despite their proficiency, LLMs can sometimes produce inaccurate or nonsensical outputs, especially in complex situations."
      ],
      "metadata": {
        "id": "b__YSyckMaXu"
      }
    },
    {
      "cell_type": "markdown",
      "metadata": {
        "id": "bE2GL8VMNKHj"
      },
      "source": [
        "# Question 3 (Optional/Bonus): Sentiment Analysis via Deep ML\n",
        "\n",
        "This question is optional and is worth up to 5 extra credit marks.\n",
        "\n",
        "Use deep learning (e.g., RNNs and variants, CNNs and variants, and/or transformers) to build a model on the same dataset as Q1 and compare the results with the Shallow ML model.\n",
        "\n",
        "You may train your own deep ML model (using, e.g., the keras library) or fine-tune a pretrained deep ML model (using, e.g., the transformers library and the Huggingface ecoystem)."
      ]
    },
    {
      "cell_type": "code",
      "source": [
        "# DO NOT MODIFY THIS CELL\n",
        "\n",
        "# First, we'll read the provided labeled training data\n",
        "df = pd.read_csv(\"https://drive.google.com/uc?export=download&id=1b8MAiN-xBdk6scM-DnufkuijDZivZJqM\")\n",
        "df.info()"
      ],
      "metadata": {
        "id": "mHAA4Zgtwukv",
        "outputId": "c7005d80-a5b5-4c5d-ea53-5731db7bb501",
        "colab": {
          "base_uri": "https://localhost:8080/"
        }
      },
      "execution_count": 4,
      "outputs": [
        {
          "output_type": "stream",
          "name": "stdout",
          "text": [
            "<class 'pandas.core.frame.DataFrame'>\n",
            "RangeIndex: 2400 entries, 0 to 2399\n",
            "Data columns (total 2 columns):\n",
            " #   Column    Non-Null Count  Dtype \n",
            "---  ------    --------------  ----- \n",
            " 0   Sentence  2400 non-null   object\n",
            " 1   Polarity  2400 non-null   int64 \n",
            "dtypes: int64(1), object(1)\n",
            "memory usage: 37.6+ KB\n"
          ]
        }
      ]
    },
    {
      "cell_type": "code",
      "source": [
        "# DO NOT MODIFY THIS CELL\n",
        "\n",
        "# Next, we'll split it into training and test\n",
        "from sklearn.model_selection import train_test_split\n",
        "\n",
        "X = df['Sentence']\n",
        "y = df['Polarity']\n",
        "\n",
        "# So that we can evaluate how well our model is performing, we split our training data\n",
        "# into training and validation.\n",
        "\n",
        "X_train, X_val, y_train, y_val = train_test_split(X, y, random_state=42)"
      ],
      "metadata": {
        "id": "tMv7CLV0wxU-"
      },
      "execution_count": 5,
      "outputs": []
    },
    {
      "cell_type": "code",
      "source": [
        "import matplotlib.pyplot as plt\n",
        "\n",
        "# Assuming 'tokenizer' is already loaded as DistilBertTokenizerFast\n",
        "def compute_length(texts):\n",
        "    return [len(tokenizer.encode(text, add_special_tokens=True)) for text in texts]\n",
        "\n",
        "# Compute lengths\n",
        "lengths = compute_length(X)\n",
        "\n",
        "# Plotting the distribution of lengths\n",
        "plt.figure(figsize=(10, 5))\n",
        "plt.hist(lengths, bins=50, alpha=0.75)\n",
        "plt.title('Distribution of Token Lengths')\n",
        "plt.xlabel('Token Count')\n",
        "plt.ylabel('Number of Sentences')\n",
        "plt.show()\n",
        "\n",
        "# Analyze the percentiles to choose a max_length\n",
        "import numpy as np\n",
        "print(\"Percentiles:\")\n",
        "print(\"90% of the lengths are below:\", np.percentile(lengths, 90))\n",
        "print(\"95% of the lengths are below:\", np.percentile(lengths, 95))\n",
        "print(\"99% of the lengths are below:\", np.percentile(lengths, 99))\n"
      ],
      "metadata": {
        "id": "uWT9ty_E4c6b",
        "outputId": "9acae214-ccab-4a5c-9568-b92330ad61cd",
        "colab": {
          "base_uri": "https://localhost:8080/",
          "height": 558
        }
      },
      "execution_count": 10,
      "outputs": [
        {
          "output_type": "display_data",
          "data": {
            "text/plain": [
              "<Figure size 1000x500 with 1 Axes>"
            ],
            "image/png": "[encoded data removed]"
          },
          "metadata": {}
        },
        {
          "output_type": "stream",
          "name": "stdout",
          "text": [
            "Percentiles:\n",
            "90% of the lengths are below: 28.0\n",
            "95% of the lengths are below: 32.0\n",
            "99% of the lengths are below: 40.00999999999976\n"
          ]
        }
      ]
    },
    {
      "cell_type": "code",
      "source": [
        "from datasets import Dataset\n",
        "from transformers import DistilBertTokenizerFast, DistilBertForSequenceClassification, Trainer, TrainingArguments\n",
        "\n",
        "# Load the tokenizer\n",
        "tokenizer = DistilBertTokenizerFast.from_pretrained('distilbert-base-uncased')\n",
        "\n",
        "# Function to tokenize the dataset\n",
        "def tokenize_function(examples):\n",
        "    # Now using max_length of 40 as determined from the percentile analysis\n",
        "    return tokenizer(\n",
        "        examples['Sentence'],\n",
        "        padding=\"max_length\",\n",
        "        truncation=True,\n",
        "        max_length=40  # Using the 99th percentile value\n",
        "    )\n",
        "\n",
        "# Convert the Pandas dataframes to Hugging Face dataset format\n",
        "train_dataset = Dataset.from_pandas(df.iloc[X_train.index])\n",
        "val_dataset = Dataset.from_pandas(df.iloc[X_val.index])\n",
        "\n",
        "# Apply the tokenize function and remove original columns\n",
        "train_dataset = train_dataset.map(tokenize_function, batched=True, remove_columns=['Sentence', 'Polarity'])\n",
        "val_dataset = val_dataset.map(tokenize_function, batched=True, remove_columns=['Sentence', 'Polarity'])\n",
        "\n",
        "# Add a column for labels which is required by Hugging Face Trainer\n",
        "train_dataset = train_dataset.add_column(\"labels\", y_train.tolist())\n",
        "val_dataset = val_dataset.add_column(\"labels\", y_val.tolist())\n"
      ],
      "metadata": {
        "id": "gi7ZzGmXwzpM",
        "outputId": "82dc9906-6f82-49ea-f75a-51458e314151",
        "colab": {
          "base_uri": "https://localhost:8080/",
          "height": 81,
          "referenced_widgets": [
            "bca35114105645fb97bfc6c99422b1dc",
            "cb0f6e35da23417d87d20bf02a5e06b5",
            "51eab609533b42a18b4752197c50c24f",
            "bc39664a9cda42549f7210ea452e0972",
            "d4f1f3017aaf4005bbc1103d15b293f2",
            "d3932bb7c6ac4e91bb2831b30cfd9482",
            "7cd28ace63c0486cafc5dedac37ee151",
            "167deccef4e64b85b83f203afb791bf6",
            "fb03911ddd4b4da493fc95e961e536fd",
            "a1df2003b692497b990ec25274177a34",
            "2458603c575347059557d10a64183fe8",
            "47898545a907403299de70ff3257be8f",
            "e17496e7b72e4b6ab00d171a89c3fec8",
            "e7e979e085e546e89f5747fb1562a302",
            "54cbfd6a36a844c897aea9c239838b69",
            "79ba8c7f8ae541c18955f9871cc06a50",
            "f12627dcaa30406cb5c2856c84b60bf5",
            "82d755828e564ccb962dc6fe83d9d5a4",
            "24b36e74fc6b41d6a0aae5fedb0f3640",
            "1fbf3aa7d9c545f6a5f3f59ef64baeb5",
            "4e91eee453b847deb83c0620a2c1428d",
            "85935d9d86c24a3d9e5f26b2d5315972"
          ]
        }
      },
      "execution_count": 11,
      "outputs": [
        {
          "output_type": "display_data",
          "data": {
            "text/plain": [
              "Map:   0%|          | 0/1800 [00:00<?, ? examples/s]"
            ],
            "application/vnd.jupyter.widget-view+json": {
              "version_major": 2,
              "version_minor": 0,
              "model_id": "bca35114105645fb97bfc6c99422b1dc"
            }
          },
          "metadata": {}
        },
        {
          "output_type": "display_data",
          "data": {
            "text/plain": [
              "Map:   0%|          | 0/600 [00:00<?, ? examples/s]"
            ],
            "application/vnd.jupyter.widget-view+json": {
              "version_major": 2,
              "version_minor": 0,
              "model_id": "47898545a907403299de70ff3257be8f"
            }
          },
          "metadata": {}
        }
      ]
    },
    {
      "cell_type": "code",
      "source": [
        "from transformers import DistilBertForSequenceClassification, Trainer, TrainingArguments\n",
        "\n",
        "# Load pre-trained model\n",
        "model = DistilBertForSequenceClassification.from_pretrained('distilbert-base-uncased', num_labels=2)\n"
      ],
      "metadata": {
        "id": "BBl5GFBTxL3a",
        "outputId": "3e095ad2-c4cf-4f99-95a2-932267bc66e9",
        "colab": {
          "base_uri": "https://localhost:8080/"
        }
      },
      "execution_count": 12,
      "outputs": [
        {
          "output_type": "stream",
          "name": "stderr",
          "text": [
            "Some weights of DistilBertForSequenceClassification were not initialized from the model checkpoint at distilbert-base-uncased and are newly initialized: ['classifier.bias', 'classifier.weight', 'pre_classifier.bias', 'pre_classifier.weight']\n",
            "You should probably TRAIN this model on a down-stream task to be able to use it for predictions and inference.\n"
          ]
        }
      ]
    },
    {
      "cell_type": "code",
      "source": [
        "!pip install accelerate -U transformers[torch] -U"
      ],
      "metadata": {
        "id": "phZ8TAVv3lXt"
      },
      "execution_count": null,
      "outputs": []
    },
    {
      "cell_type": "code",
      "source": [
        "training_args = TrainingArguments(\n",
        "    output_dir='./results',          # output directory\n",
        "    num_train_epochs=3,              # number of training epochs\n",
        "    per_device_train_batch_size=16,  # batch size for training\n",
        "    per_device_eval_batch_size=64,   # batch size for evaluation\n",
        "    warmup_steps=500,                # number of warmup steps for learning rate scheduler\n",
        "    weight_decay=0.01,               # strength of weight decay\n",
        "    logging_dir='./logs',            # directory for storing logs\n",
        "    logging_steps=10,\n",
        ")"
      ],
      "metadata": {
        "id": "LTHCJ-eIxQxO"
      },
      "execution_count": 13,
      "outputs": []
    },
    {
      "cell_type": "code",
      "source": [
        "trainer = Trainer(\n",
        "    model=model,\n",
        "    args=training_args,\n",
        "    train_dataset=train_dataset,\n",
        "    eval_dataset=val_dataset\n",
        ")\n",
        "\n",
        "# Start training\n",
        "trainer.train()\n"
      ],
      "metadata": {
        "id": "g0ZhzaXqyVg_",
        "outputId": "7a6746d8-3bad-48cf-f33e-19966c22c475",
        "colab": {
          "base_uri": "https://localhost:8080/",
          "height": 1000
        }
      },
      "execution_count": 14,
      "outputs": [
        {
          "output_type": "display_data",
          "data": {
            "text/plain": [
              "<IPython.core.display.HTML object>"
            ],
            "text/html": [
              "\n",
              "    <div>\n",
              "      \n",
              "      <progress value='339' max='339' style='width:300px; height:20px; vertical-align: middle;'></progress>\n",
              "      [339/339 00:23, Epoch 3/3]\n",
              "    </div>\n",
              "    <table border=\"1\" class=\"dataframe\">\n",
              "  <thead>\n",
              " <tr style=\"text-align: left;\">\n",
              "      <th>Step</th>\n",
              "      <th>Training Loss</th>\n",
              "    </tr>\n",
              "  </thead>\n",
              "  <tbody>\n",
              "    <tr>\n",
              "      <td>10</td>\n",
              "      <td>0.697500</td>\n",
              "    </tr>\n",
              "    <tr>\n",
              "      <td>20</td>\n",
              "      <td>0.699400</td>\n",
              "    </tr>\n",
              "    <tr>\n",
              "      <td>30</td>\n",
              "      <td>0.688400</td>\n",
              "    </tr>\n",
              "    <tr>\n",
              "      <td>40</td>\n",
              "      <td>0.693100</td>\n",
              "    </tr>\n",
              "    <tr>\n",
              "      <td>50</td>\n",
              "      <td>0.686500</td>\n",
              "    </tr>\n",
              "    <tr>\n",
              "      <td>60</td>\n",
              "      <td>0.673100</td>\n",
              "    </tr>\n",
              "    <tr>\n",
              "      <td>70</td>\n",
              "      <td>0.671000</td>\n",
              "    </tr>\n",
              "    <tr>\n",
              "      <td>80</td>\n",
              "      <td>0.647900</td>\n",
              "    </tr>\n",
              "    <tr>\n",
              "      <td>90</td>\n",
              "      <td>0.556200</td>\n",
              "    </tr>\n",
              "    <tr>\n",
              "      <td>100</td>\n",
              "      <td>0.462500</td>\n",
              "    </tr>\n",
              "    <tr>\n",
              "      <td>110</td>\n",
              "      <td>0.334200</td>\n",
              "    </tr>\n",
              "    <tr>\n",
              "      <td>120</td>\n",
              "      <td>0.322600</td>\n",
              "    </tr>\n",
              "    <tr>\n",
              "      <td>130</td>\n",
              "      <td>0.194600</td>\n",
              "    </tr>\n",
              "    <tr>\n",
              "      <td>140</td>\n",
              "      <td>0.226200</td>\n",
              "    </tr>\n",
              "    <tr>\n",
              "      <td>150</td>\n",
              "      <td>0.207000</td>\n",
              "    </tr>\n",
              "    <tr>\n",
              "      <td>160</td>\n",
              "      <td>0.260400</td>\n",
              "    </tr>\n",
              "    <tr>\n",
              "      <td>170</td>\n",
              "      <td>0.175600</td>\n",
              "    </tr>\n",
              "    <tr>\n",
              "      <td>180</td>\n",
              "      <td>0.210100</td>\n",
              "    </tr>\n",
              "    <tr>\n",
              "      <td>190</td>\n",
              "      <td>0.159000</td>\n",
              "    </tr>\n",
              "    <tr>\n",
              "      <td>200</td>\n",
              "      <td>0.209400</td>\n",
              "    </tr>\n",
              "    <tr>\n",
              "      <td>210</td>\n",
              "      <td>0.371400</td>\n",
              "    </tr>\n",
              "    <tr>\n",
              "      <td>220</td>\n",
              "      <td>0.183200</td>\n",
              "    </tr>\n",
              "    <tr>\n",
              "      <td>230</td>\n",
              "      <td>0.211000</td>\n",
              "    </tr>\n",
              "    <tr>\n",
              "      <td>240</td>\n",
              "      <td>0.078100</td>\n",
              "    </tr>\n",
              "    <tr>\n",
              "      <td>250</td>\n",
              "      <td>0.081700</td>\n",
              "    </tr>\n",
              "    <tr>\n",
              "      <td>260</td>\n",
              "      <td>0.069200</td>\n",
              "    </tr>\n",
              "    <tr>\n",
              "      <td>270</td>\n",
              "      <td>0.144600</td>\n",
              "    </tr>\n",
              "    <tr>\n",
              "      <td>280</td>\n",
              "      <td>0.152700</td>\n",
              "    </tr>\n",
              "    <tr>\n",
              "      <td>290</td>\n",
              "      <td>0.067800</td>\n",
              "    </tr>\n",
              "    <tr>\n",
              "      <td>300</td>\n",
              "      <td>0.254500</td>\n",
              "    </tr>\n",
              "    <tr>\n",
              "      <td>310</td>\n",
              "      <td>0.137100</td>\n",
              "    </tr>\n",
              "    <tr>\n",
              "      <td>320</td>\n",
              "      <td>0.091300</td>\n",
              "    </tr>\n",
              "    <tr>\n",
              "      <td>330</td>\n",
              "      <td>0.065100</td>\n",
              "    </tr>\n",
              "  </tbody>\n",
              "</table><p>"
            ]
          },
          "metadata": {}
        },
        {
          "output_type": "execute_result",
          "data": {
            "text/plain": [
              "TrainOutput(global_step=339, training_loss=0.3216411561037587, metrics={'train_runtime': 24.913, 'train_samples_per_second': 216.754, 'train_steps_per_second': 13.607, 'total_flos': 55884683808000.0, 'train_loss': 0.3216411561037587, 'epoch': 3.0})"
            ]
          },
          "metadata": {},
          "execution_count": 14
        }
      ]
    },
    {
      "cell_type": "code",
      "source": [
        "#Step 6: Evaluation\n",
        "#Evaluate the model on the validation set to see how well it performs.\n",
        "\n",
        "\n",
        "results = trainer.evaluate()\n",
        "print(results)\n"
      ],
      "metadata": {
        "id": "obEuPhixyXN2",
        "outputId": "974ece68-8a2b-40ab-eaad-f61733de3dcb",
        "colab": {
          "base_uri": "https://localhost:8080/",
          "height": 55
        }
      },
      "execution_count": 15,
      "outputs": [
        {
          "output_type": "display_data",
          "data": {
            "text/plain": [
              "<IPython.core.display.HTML object>"
            ],
            "text/html": [
              "\n",
              "    <div>\n",
              "      \n",
              "      <progress value='10' max='10' style='width:300px; height:20px; vertical-align: middle;'></progress>\n",
              "      [10/10 00:00]\n",
              "    </div>\n",
              "    "
            ]
          },
          "metadata": {}
        },
        {
          "output_type": "stream",
          "name": "stdout",
          "text": [
            "{'eval_loss': 0.2447122186422348, 'eval_runtime': 0.6715, 'eval_samples_per_second': 893.463, 'eval_steps_per_second': 14.891, 'epoch': 3.0}\n"
          ]
        }
      ]
    },
    {
      "cell_type": "code",
      "source": [
        "#Step 7: Save the Model\n",
        "#After training, you may want to save the model and the tokenizer for later use.\n",
        "\n",
        "model_path = \"./sentiment-distilbert-model\"\n",
        "model.save_pretrained(model_path)\n",
        "tokenizer.save_pretrained(model_path)\n",
        "\n"
      ],
      "metadata": {
        "id": "vljq7w0gyzep",
        "outputId": "789a09e7-1c3d-415e-d20e-2132f2109aec",
        "colab": {
          "base_uri": "https://localhost:8080/"
        }
      },
      "execution_count": 16,
      "outputs": [
        {
          "output_type": "execute_result",
          "data": {
            "text/plain": [
              "('./sentiment-distilbert-model/tokenizer_config.json',\n",
              " './sentiment-distilbert-model/special_tokens_map.json',\n",
              " './sentiment-distilbert-model/vocab.txt',\n",
              " './sentiment-distilbert-model/added_tokens.json',\n",
              " './sentiment-distilbert-model/tokenizer.json')"
            ]
          },
          "metadata": {},
          "execution_count": 16
        }
      ]
    },
    {
      "cell_type": "code",
      "source": [
        "# Get predictions\n",
        "predictions = trainer.predict(val_dataset)"
      ],
      "metadata": {
        "id": "3GSV4JigAMWO",
        "outputId": "b77968c8-ebad-4f32-f4bb-bd0eca6ec6cc",
        "colab": {
          "base_uri": "https://localhost:8080/",
          "height": 17
        }
      },
      "execution_count": 17,
      "outputs": [
        {
          "output_type": "display_data",
          "data": {
            "text/plain": [
              "<IPython.core.display.HTML object>"
            ],
            "text/html": []
          },
          "metadata": {}
        }
      ]
    },
    {
      "cell_type": "code",
      "source": [
        "import numpy as np\n",
        "from sklearn.metrics import accuracy_score, roc_auc_score, f1_score, confusion_matrix\n",
        "\n",
        "# Extract logits\n",
        "logits = predictions.predictions\n",
        "\n",
        "# Convert logits to probabilities using softmax\n",
        "probabilities = np.exp(logits) / np.sum(np.exp(logits), axis=1, keepdims=True)\n",
        "\n",
        "# Extract predicted labels\n",
        "predicted_labels = np.argmax(logits, axis=1)\n",
        "\n",
        "# Extract True labels\n",
        "true_labels = np.array(val_dataset[\"labels\"])\n"
      ],
      "metadata": {
        "id": "vXkwsOn7ANlB"
      },
      "execution_count": 18,
      "outputs": []
    },
    {
      "cell_type": "code",
      "source": [
        "# Accuracy\n",
        "accuracy = accuracy_score(true_labels, predicted_labels)\n",
        "print(f\"Accuracy: {accuracy}\")\n",
        "\n",
        "# AUC - This metric is only meaningful for binary classification tasks\n",
        "if len(np.unique(true_labels)) == 2:\n",
        "    auc = roc_auc_score(true_labels, probabilities[:, 1])  # Probabilities for the positive class\n",
        "    print(f\"AUC: {auc}\")\n",
        "else:\n",
        "    print(\"AUC is not applicable for non-binary classification tasks.\")\n",
        "\n",
        "# F1-Score\n",
        "f1 = f1_score(true_labels, predicted_labels, average='weighted')  # Use 'weighted' to handle imbalanced classes\n",
        "print(f\"F1-Score: {f1}\")\n",
        "\n",
        "# Confusion Matrix\n",
        "cm = confusion_matrix(true_labels, predicted_labels)\n",
        "print(\"Confusion Matrix:\")\n",
        "print(cm)\n"
      ],
      "metadata": {
        "id": "JBkIoHISBBM6",
        "outputId": "3a8d192e-509a-469a-d3d8-138536113671",
        "colab": {
          "base_uri": "https://localhost:8080/"
        }
      },
      "execution_count": 19,
      "outputs": [
        {
          "output_type": "stream",
          "name": "stdout",
          "text": [
            "Accuracy: 0.9333333333333333\n",
            "AUC: 0.9788534832515563\n",
            "F1-Score: 0.9333154410449096\n",
            "Confusion Matrix:\n",
            "[[304  19]\n",
            " [ 21 256]]\n"
          ]
        }
      ]
    },
    {
      "cell_type": "code",
      "source": [
        "from sklearn.metrics import classification_report\n",
        "report = classification_report(true_labels, predicted_labels)\n",
        "print(\"Classification Report:\")\n",
        "print(report)"
      ],
      "metadata": {
        "id": "V-six-lZB2yu",
        "outputId": "4be496fc-9a50-4e0f-c54a-dbd5d53cb049",
        "colab": {
          "base_uri": "https://localhost:8080/"
        }
      },
      "execution_count": 20,
      "outputs": [
        {
          "output_type": "stream",
          "name": "stdout",
          "text": [
            "Classification Report:\n",
            "              precision    recall  f1-score   support\n",
            "\n",
            "           0       0.94      0.94      0.94       323\n",
            "           1       0.93      0.92      0.93       277\n",
            "\n",
            "    accuracy                           0.93       600\n",
            "   macro avg       0.93      0.93      0.93       600\n",
            "weighted avg       0.93      0.93      0.93       600\n",
            "\n"
          ]
        }
      ]
    },
    {
      "cell_type": "markdown",
      "source": [
        "## Model Assessment"
      ],
      "metadata": {
        "id": "iTNkWgCf6sZO"
      }
    },
    {
      "cell_type": "code",
      "source": [
        "# DO NOT MODIFY THIS CELL\n",
        "\n",
        "test_df = pd.read_csv(\"https://drive.google.com/uc?export=download&id=1taoTluPBUMt9JkKAnlqDTrU49DJFpJGW\")\n",
        "test_df.info()"
      ],
      "metadata": {
        "id": "FV0ByOql6NcQ",
        "outputId": "e3224c85-57b2-46ef-d759-ce545edef3c1",
        "colab": {
          "base_uri": "https://localhost:8080/"
        }
      },
      "execution_count": 22,
      "outputs": [
        {
          "output_type": "stream",
          "name": "stdout",
          "text": [
            "<class 'pandas.core.frame.DataFrame'>\n",
            "RangeIndex: 600 entries, 0 to 599\n",
            "Data columns (total 2 columns):\n",
            " #   Column    Non-Null Count  Dtype \n",
            "---  ------    --------------  ----- \n",
            " 0   Sentence  600 non-null    object\n",
            " 1   Polarity  600 non-null    int64 \n",
            "dtypes: int64(1), object(1)\n",
            "memory usage: 9.5+ KB\n"
          ]
        }
      ]
    },
    {
      "cell_type": "code",
      "source": [
        "from datasets import Dataset\n",
        "from transformers import DistilBertTokenizerFast\n",
        "import numpy as np\n",
        "from sklearn.metrics import accuracy_score, precision_recall_fscore_support, roc_auc_score, classification_report, confusion_matrix\n",
        "\n",
        "# Assuming 'tokenizer' and 'trainer' are already loaded\n",
        "\n",
        "# Tokenize the test set\n",
        "def tokenize_function(examples):\n",
        "    return tokenizer(\n",
        "        examples['Sentence'],\n",
        "        padding=\"max_length\",\n",
        "        truncation=True,\n",
        "        max_length=40  # Ensure this matches the max_length used during training\n",
        "    )\n",
        "\n",
        "# Convert the test dataframe to a Hugging Face dataset format\n",
        "test_dataset = Dataset.from_pandas(test_df)\n",
        "\n",
        "# Apply the tokenize function and remove original columns\n",
        "test_dataset = test_dataset.map(tokenize_function, batched=True, remove_columns=['Sentence'])\n",
        "\n",
        "# Predict using the trained model\n",
        "test_predictions = trainer.predict(test_dataset)\n",
        "\n",
        "# Extract logits from the predictions\n",
        "test_logits = test_predictions.predictions\n",
        "\n",
        "# Convert logits to probabilities using softmax\n",
        "test_probabilities = np.exp(test_logits) / np.sum(np.exp(test_logits), axis=1, keepdims=True)\n",
        "\n",
        "# Extract predicted labels\n",
        "test_predicted_labels = np.argmax(test_logits, axis=1)\n",
        "\n",
        "# Assuming you have true labels in your test data for evaluation\n",
        "\n",
        "# Extract true labels\n",
        "test_true_labels = test_df['Polarity'].to_numpy()\n",
        "\n",
        "# Calculate accuracy\n",
        "test_accuracy = accuracy_score(test_true_labels, test_predicted_labels)\n",
        "print(f\"Test Accuracy: {test_accuracy}\")\n",
        "\n",
        "# Calculate precision, recall, and F1-score\n",
        "precision, recall, f1, _ = precision_recall_fscore_support(test_true_labels, test_predicted_labels, average='binary')\n",
        "print(f\"Precision: {precision}, Recall: {recall}, F1-Score: {f1}\")\n",
        "\n",
        "# Calculate ROC-AUC\n",
        "test_auc = roc_auc_score(test_true_labels, test_probabilities[:, 1])  # Probabilities for the positive class\n",
        "print(f\"Test AUC: {test_auc}\")\n",
        "\n",
        "# Print classification report\n",
        "print(\"Classification Report:\")\n",
        "print(classification_report(test_true_labels, test_predicted_labels))\n",
        "\n",
        "# Print confusion matrix\n",
        "print(\"Confusion Matrix:\")\n",
        "print(confusion_matrix(test_true_labels, test_predicted_labels))\n"
      ],
      "metadata": {
        "id": "R2O_goP80I-P",
        "outputId": "ff990ac0-4c8a-4b3a-af3d-20bb2de1c61e",
        "colab": {
          "base_uri": "https://localhost:8080/",
          "height": 335,
          "referenced_widgets": [
            "a262c83532a84ad5b7903b49dc89dc5d",
            "e272337e2f06433a957d84002df0fb23",
            "ef67b2bab9094ba0811877324baa053b",
            "07eb9d6b82584d82a7852fff2afec8c4",
            "a182415db791400d871788e76a5c3167",
            "a48b70ad4aa1404fadca726a897153db",
            "ee8f292e541240578bc46fd8f3af8ddc",
            "8791ae731a044a79b632751c007aed85",
            "6a4d6fbe6e9748389435b5ff8aa02954",
            "18b95d4b56234db1998c6e673446250b",
            "1ed1797bc6134f1f84ac0f236332004c"
          ]
        }
      },
      "execution_count": 23,
      "outputs": [
        {
          "output_type": "display_data",
          "data": {
            "text/plain": [
              "Map:   0%|          | 0/600 [00:00<?, ? examples/s]"
            ],
            "application/vnd.jupyter.widget-view+json": {
              "version_major": 2,
              "version_minor": 0,
              "model_id": "a262c83532a84ad5b7903b49dc89dc5d"
            }
          },
          "metadata": {}
        },
        {
          "output_type": "display_data",
          "data": {
            "text/plain": [
              "<IPython.core.display.HTML object>"
            ],
            "text/html": []
          },
          "metadata": {}
        },
        {
          "output_type": "stream",
          "name": "stdout",
          "text": [
            "Test Accuracy: 0.8983333333333333\n",
            "Precision: 0.9315068493150684, Recall: 0.8690095846645367, F1-Score: 0.8991735537190082\n",
            "Test AUC: 0.9617058699112779\n",
            "Classification Report:\n",
            "              precision    recall  f1-score   support\n",
            "\n",
            "           0       0.87      0.93      0.90       287\n",
            "           1       0.93      0.87      0.90       313\n",
            "\n",
            "    accuracy                           0.90       600\n",
            "   macro avg       0.90      0.90      0.90       600\n",
            "weighted avg       0.90      0.90      0.90       600\n",
            "\n",
            "Confusion Matrix:\n",
            "[[267  20]\n",
            " [ 41 272]]\n"
          ]
        }
      ]
    }
  ],
  "metadata": {
    "colab": {
      "provenance": [],
      "machine_shape": "hm",
      "gpuType": "T4",
      "include_colab_link": true
    },
    "kernelspec": {
      "display_name": "Python 3",
      "name": "python3"
    },
    "widgets": {
      "application/vnd.jupyter.widget-state+json": {
        "bca35114105645fb97bfc6c99422b1dc": {
          "model_module": "@jupyter-widgets/controls",
          "model_name": "HBoxModel",
          "model_module_version": "1.5.0",
          "state": {
            "_dom_classes": [],
            "_model_module": "@jupyter-widgets/controls",
            "_model_module_version": "1.5.0",
            "_model_name": "HBoxModel",
            "_view_count": null,
            "_view_module": "@jupyter-widgets/controls",
            "_view_module_version": "1.5.0",
            "_view_name": "HBoxView",
            "box_style": "",
            "children": [
              "IPY_MODEL_cb0f6e35da23417d87d20bf02a5e06b5",
              "IPY_MODEL_51eab609533b42a18b4752197c50c24f",
              "IPY_MODEL_bc39664a9cda42549f7210ea452e0972"
            ],
            "layout": "IPY_MODEL_d4f1f3017aaf4005bbc1103d15b293f2"
          }
        },
        "cb0f6e35da23417d87d20bf02a5e06b5": {
          "model_module": "@jupyter-widgets/controls",
          "model_name": "HTMLModel",
          "model_module_version": "1.5.0",
          "state": {
            "_dom_classes": [],
            "_model_module": "@jupyter-widgets/controls",
            "_model_module_version": "1.5.0",
            "_model_name": "HTMLModel",
            "_view_count": null,
            "_view_module": "@jupyter-widgets/controls",
            "_view_module_version": "1.5.0",
            "_view_name": "HTMLView",
            "description": "",
            "description_tooltip": null,
            "layout": "IPY_MODEL_d3932bb7c6ac4e91bb2831b30cfd9482",
            "placeholder": "​",
            "style": "IPY_MODEL_7cd28ace63c0486cafc5dedac37ee151",
            "value": "Map: 100%"
          }
        },
        "51eab609533b42a18b4752197c50c24f": {
          "model_module": "@jupyter-widgets/controls",
          "model_name": "FloatProgressModel",
          "model_module_version": "1.5.0",
          "state": {
            "_dom_classes": [],
            "_model_module": "@jupyter-widgets/controls",
            "_model_module_version": "1.5.0",
            "_model_name": "FloatProgressModel",
            "_view_count": null,
            "_view_module": "@jupyter-widgets/controls",
            "_view_module_version": "1.5.0",
            "_view_name": "ProgressView",
            "bar_style": "success",
            "description": "",
            "description_tooltip": null,
            "layout": "IPY_MODEL_167deccef4e64b85b83f203afb791bf6",
            "max": 1800,
            "min": 0,
            "orientation": "horizontal",
            "style": "IPY_MODEL_fb03911ddd4b4da493fc95e961e536fd",
            "value": 1800
          }
        },
        "bc39664a9cda42549f7210ea452e0972": {
          "model_module": "@jupyter-widgets/controls",
          "model_name": "HTMLModel",
          "model_module_version": "1.5.0",
          "state": {
            "_dom_classes": [],
            "_model_module": "@jupyter-widgets/controls",
            "_model_module_version": "1.5.0",
            "_model_name": "HTMLModel",
            "_view_count": null,
            "_view_module": "@jupyter-widgets/controls",
            "_view_module_version": "1.5.0",
            "_view_name": "HTMLView",
            "description": "",
            "description_tooltip": null,
            "layout": "IPY_MODEL_a1df2003b692497b990ec25274177a34",
            "placeholder": "​",
            "style": "IPY_MODEL_2458603c575347059557d10a64183fe8",
            "value": " 1800/1800 [00:00&lt;00:00, 20550.74 examples/s]"
          }
        },
        "d4f1f3017aaf4005bbc1103d15b293f2": {
          "model_module": "@jupyter-widgets/base",
          "model_name": "LayoutModel",
          "model_module_version": "1.2.0",
          "state": {
            "_model_module": "@jupyter-widgets/base",
            "_model_module_version": "1.2.0",
            "_model_name": "LayoutModel",
            "_view_count": null,
            "_view_module": "@jupyter-widgets/base",
            "_view_module_version": "1.2.0",
            "_view_name": "LayoutView",
            "align_content": null,
            "align_items": null,
            "align_self": null,
            "border": null,
            "bottom": null,
            "display": null,
            "flex": null,
            "flex_flow": null,
            "grid_area": null,
            "grid_auto_columns": null,
            "grid_auto_flow": null,
            "grid_auto_rows": null,
            "grid_column": null,
            "grid_gap": null,
            "grid_row": null,
            "grid_template_areas": null,
            "grid_template_columns": null,
            "grid_template_rows": null,
            "height": null,
            "justify_content": null,
            "justify_items": null,
            "left": null,
            "margin": null,
            "max_height": null,
            "max_width": null,
            "min_height": null,
            "min_width": null,
            "object_fit": null,
            "object_position": null,
            "order": null,
            "overflow": null,
            "overflow_x": null,
            "overflow_y": null,
            "padding": null,
            "right": null,
            "top": null,
            "visibility": null,
            "width": null
          }
        },
        "d3932bb7c6ac4e91bb2831b30cfd9482": {
          "model_module": "@jupyter-widgets/base",
          "model_name": "LayoutModel",
          "model_module_version": "1.2.0",
          "state": {
            "_model_module": "@jupyter-widgets/base",
            "_model_module_version": "1.2.0",
            "_model_name": "LayoutModel",
            "_view_count": null,
            "_view_module": "@jupyter-widgets/base",
            "_view_module_version": "1.2.0",
            "_view_name": "LayoutView",
            "align_content": null,
            "align_items": null,
            "align_self": null,
            "border": null,
            "bottom": null,
            "display": null,
            "flex": null,
            "flex_flow": null,
            "grid_area": null,
            "grid_auto_columns": null,
            "grid_auto_flow": null,
            "grid_auto_rows": null,
            "grid_column": null,
            "grid_gap": null,
            "grid_row": null,
            "grid_template_areas": null,
            "grid_template_columns": null,
            "grid_template_rows": null,
            "height": null,
            "justify_content": null,
            "justify_items": null,
            "left": null,
            "margin": null,
            "max_height": null,
            "max_width": null,
            "min_height": null,
            "min_width": null,
            "object_fit": null,
            "object_position": null,
            "order": null,
            "overflow": null,
            "overflow_x": null,
            "overflow_y": null,
            "padding": null,
            "right": null,
            "top": null,
            "visibility": null,
            "width": null
          }
        },
        "7cd28ace63c0486cafc5dedac37ee151": {
          "model_module": "@jupyter-widgets/controls",
          "model_name": "DescriptionStyleModel",
          "model_module_version": "1.5.0",
          "state": {
            "_model_module": "@jupyter-widgets/controls",
            "_model_module_version": "1.5.0",
            "_model_name": "DescriptionStyleModel",
            "_view_count": null,
            "_view_module": "@jupyter-widgets/base",
            "_view_module_version": "1.2.0",
            "_view_name": "StyleView",
            "description_width": ""
          }
        },
        "167deccef4e64b85b83f203afb791bf6": {
          "model_module": "@jupyter-widgets/base",
          "model_name": "LayoutModel",
          "model_module_version": "1.2.0",
          "state": {
            "_model_module": "@jupyter-widgets/base",
            "_model_module_version": "1.2.0",
            "_model_name": "LayoutModel",
            "_view_count": null,
            "_view_module": "@jupyter-widgets/base",
            "_view_module_version": "1.2.0",
            "_view_name": "LayoutView",
            "align_content": null,
            "align_items": null,
            "align_self": null,
            "border": null,
            "bottom": null,
            "display": null,
            "flex": null,
            "flex_flow": null,
            "grid_area": null,
            "grid_auto_columns": null,
            "grid_auto_flow": null,
            "grid_auto_rows": null,
            "grid_column": null,
            "grid_gap": null,
            "grid_row": null,
            "grid_template_areas": null,
            "grid_template_columns": null,
            "grid_template_rows": null,
            "height": null,
            "justify_content": null,
            "justify_items": null,
            "left": null,
            "margin": null,
            "max_height": null,
            "max_width": null,
            "min_height": null,
            "min_width": null,
            "object_fit": null,
            "object_position": null,
            "order": null,
            "overflow": null,
            "overflow_x": null,
            "overflow_y": null,
            "padding": null,
            "right": null,
            "top": null,
            "visibility": null,
            "width": null
          }
        },
        "fb03911ddd4b4da493fc95e961e536fd": {
          "model_module": "@jupyter-widgets/controls",
          "model_name": "ProgressStyleModel",
          "model_module_version": "1.5.0",
          "state": {
            "_model_module": "@jupyter-widgets/controls",
            "_model_module_version": "1.5.0",
            "_model_name": "ProgressStyleModel",
            "_view_count": null,
            "_view_module": "@jupyter-widgets/base",
            "_view_module_version": "1.2.0",
            "_view_name": "StyleView",
            "bar_color": null,
            "description_width": ""
          }
        },
        "a1df2003b692497b990ec25274177a34": {
          "model_module": "@jupyter-widgets/base",
          "model_name": "LayoutModel",
          "model_module_version": "1.2.0",
          "state": {
            "_model_module": "@jupyter-widgets/base",
            "_model_module_version": "1.2.0",
            "_model_name": "LayoutModel",
            "_view_count": null,
            "_view_module": "@jupyter-widgets/base",
            "_view_module_version": "1.2.0",
            "_view_name": "LayoutView",
            "align_content": null,
            "align_items": null,
            "align_self": null,
            "border": null,
            "bottom": null,
            "display": null,
            "flex": null,
            "flex_flow": null,
            "grid_area": null,
            "grid_auto_columns": null,
            "grid_auto_flow": null,
            "grid_auto_rows": null,
            "grid_column": null,
            "grid_gap": null,
            "grid_row": null,
            "grid_template_areas": null,
            "grid_template_columns": null,
            "grid_template_rows": null,
            "height": null,
            "justify_content": null,
            "justify_items": null,
            "left": null,
            "margin": null,
            "max_height": null,
            "max_width": null,
            "min_height": null,
            "min_width": null,
            "object_fit": null,
            "object_position": null,
            "order": null,
            "overflow": null,
            "overflow_x": null,
            "overflow_y": null,
            "padding": null,
            "right": null,
            "top": null,
            "visibility": null,
            "width": null
          }
        },
        "2458603c575347059557d10a64183fe8": {
          "model_module": "@jupyter-widgets/controls",
          "model_name": "DescriptionStyleModel",
          "model_module_version": "1.5.0",
          "state": {
            "_model_module": "@jupyter-widgets/controls",
            "_model_module_version": "1.5.0",
            "_model_name": "DescriptionStyleModel",
            "_view_count": null,
            "_view_module": "@jupyter-widgets/base",
            "_view_module_version": "1.2.0",
            "_view_name": "StyleView",
            "description_width": ""
          }
        },
        "47898545a907403299de70ff3257be8f": {
          "model_module": "@jupyter-widgets/controls",
          "model_name": "HBoxModel",
          "model_module_version": "1.5.0",
          "state": {
            "_dom_classes": [],
            "_model_module": "@jupyter-widgets/controls",
            "_model_module_version": "1.5.0",
            "_model_name": "HBoxModel",
            "_view_count": null,
            "_view_module": "@jupyter-widgets/controls",
            "_view_module_version": "1.5.0",
            "_view_name": "HBoxView",
            "box_style": "",
            "children": [
              "IPY_MODEL_e17496e7b72e4b6ab00d171a89c3fec8",
              "IPY_MODEL_e7e979e085e546e89f5747fb1562a302",
              "IPY_MODEL_54cbfd6a36a844c897aea9c239838b69"
            ],
            "layout": "IPY_MODEL_79ba8c7f8ae541c18955f9871cc06a50"
          }
        },
        "e17496e7b72e4b6ab00d171a89c3fec8": {
          "model_module": "@jupyter-widgets/controls",
          "model_name": "HTMLModel",
          "model_module_version": "1.5.0",
          "state": {
            "_dom_classes": [],
            "_model_module": "@jupyter-widgets/controls",
            "_model_module_version": "1.5.0",
            "_model_name": "HTMLModel",
            "_view_count": null,
            "_view_module": "@jupyter-widgets/controls",
            "_view_module_version": "1.5.0",
            "_view_name": "HTMLView",
            "description": "",
            "description_tooltip": null,
            "layout": "IPY_MODEL_f12627dcaa30406cb5c2856c84b60bf5",
            "placeholder": "​",
            "style": "IPY_MODEL_82d755828e564ccb962dc6fe83d9d5a4",
            "value": "Map: 100%"
          }
        },
        "e7e979e085e546e89f5747fb1562a302": {
          "model_module": "@jupyter-widgets/controls",
          "model_name": "FloatProgressModel",
          "model_module_version": "1.5.0",
          "state": {
            "_dom_classes": [],
            "_model_module": "@jupyter-widgets/controls",
            "_model_module_version": "1.5.0",
            "_model_name": "FloatProgressModel",
            "_view_count": null,
            "_view_module": "@jupyter-widgets/controls",
            "_view_module_version": "1.5.0",
            "_view_name": "ProgressView",
            "bar_style": "success",
            "description": "",
            "description_tooltip": null,
            "layout": "IPY_MODEL_24b36e74fc6b41d6a0aae5fedb0f3640",
            "max": 600,
            "min": 0,
            "orientation": "horizontal",
            "style": "IPY_MODEL_1fbf3aa7d9c545f6a5f3f59ef64baeb5",
            "value": 600
          }
        },
        "54cbfd6a36a844c897aea9c239838b69": {
          "model_module": "@jupyter-widgets/controls",
          "model_name": "HTMLModel",
          "model_module_version": "1.5.0",
          "state": {
            "_dom_classes": [],
            "_model_module": "@jupyter-widgets/controls",
            "_model_module_version": "1.5.0",
            "_model_name": "HTMLModel",
            "_view_count": null,
            "_view_module": "@jupyter-widgets/controls",
            "_view_module_version": "1.5.0",
            "_view_name": "HTMLView",
            "description": "",
            "description_tooltip": null,
            "layout": "IPY_MODEL_4e91eee453b847deb83c0620a2c1428d",
            "placeholder": "​",
            "style": "IPY_MODEL_85935d9d86c24a3d9e5f26b2d5315972",
            "value": " 600/600 [00:00&lt;00:00, 9174.33 examples/s]"
          }
        },
        "79ba8c7f8ae541c18955f9871cc06a50": {
          "model_module": "@jupyter-widgets/base",
          "model_name": "LayoutModel",
          "model_module_version": "1.2.0",
          "state": {
            "_model_module": "@jupyter-widgets/base",
            "_model_module_version": "1.2.0",
            "_model_name": "LayoutModel",
            "_view_count": null,
            "_view_module": "@jupyter-widgets/base",
            "_view_module_version": "1.2.0",
            "_view_name": "LayoutView",
            "align_content": null,
            "align_items": null,
            "align_self": null,
            "border": null,
            "bottom": null,
            "display": null,
            "flex": null,
            "flex_flow": null,
            "grid_area": null,
            "grid_auto_columns": null,
            "grid_auto_flow": null,
            "grid_auto_rows": null,
            "grid_column": null,
            "grid_gap": null,
            "grid_row": null,
            "grid_template_areas": null,
            "grid_template_columns": null,
            "grid_template_rows": null,
            "height": null,
            "justify_content": null,
            "justify_items": null,
            "left": null,
            "margin": null,
            "max_height": null,
            "max_width": null,
            "min_height": null,
            "min_width": null,
            "object_fit": null,
            "object_position": null,
            "order": null,
            "overflow": null,
            "overflow_x": null,
            "overflow_y": null,
            "padding": null,
            "right": null,
            "top": null,
            "visibility": null,
            "width": null
          }
        },
        "f12627dcaa30406cb5c2856c84b60bf5": {
          "model_module": "@jupyter-widgets/base",
          "model_name": "LayoutModel",
          "model_module_version": "1.2.0",
          "state": {
            "_model_module": "@jupyter-widgets/base",
            "_model_module_version": "1.2.0",
            "_model_name": "LayoutModel",
            "_view_count": null,
            "_view_module": "@jupyter-widgets/base",
            "_view_module_version": "1.2.0",
            "_view_name": "LayoutView",
            "align_content": null,
            "align_items": null,
            "align_self": null,
            "border": null,
            "bottom": null,
            "display": null,
            "flex": null,
            "flex_flow": null,
            "grid_area": null,
            "grid_auto_columns": null,
            "grid_auto_flow": null,
            "grid_auto_rows": null,
            "grid_column": null,
            "grid_gap": null,
            "grid_row": null,
            "grid_template_areas": null,
            "grid_template_columns": null,
            "grid_template_rows": null,
            "height": null,
            "justify_content": null,
            "justify_items": null,
            "left": null,
            "margin": null,
            "max_height": null,
            "max_width": null,
            "min_height": null,
            "min_width": null,
            "object_fit": null,
            "object_position": null,
            "order": null,
            "overflow": null,
            "overflow_x": null,
            "overflow_y": null,
            "padding": null,
            "right": null,
            "top": null,
            "visibility": null,
            "width": null
          }
        },
        "82d755828e564ccb962dc6fe83d9d5a4": {
          "model_module": "@jupyter-widgets/controls",
          "model_name": "DescriptionStyleModel",
          "model_module_version": "1.5.0",
          "state": {
            "_model_module": "@jupyter-widgets/controls",
            "_model_module_version": "1.5.0",
            "_model_name": "DescriptionStyleModel",
            "_view_count": null,
            "_view_module": "@jupyter-widgets/base",
            "_view_module_version": "1.2.0",
            "_view_name": "StyleView",
            "description_width": ""
          }
        },
        "24b36e74fc6b41d6a0aae5fedb0f3640": {
          "model_module": "@jupyter-widgets/base",
          "model_name": "LayoutModel",
          "model_module_version": "1.2.0",
          "state": {
            "_model_module": "@jupyter-widgets/base",
            "_model_module_version": "1.2.0",
            "_model_name": "LayoutModel",
            "_view_count": null,
            "_view_module": "@jupyter-widgets/base",
            "_view_module_version": "1.2.0",
            "_view_name": "LayoutView",
            "align_content": null,
            "align_items": null,
            "align_self": null,
            "border": null,
            "bottom": null,
            "display": null,
            "flex": null,
            "flex_flow": null,
            "grid_area": null,
            "grid_auto_columns": null,
            "grid_auto_flow": null,
            "grid_auto_rows": null,
            "grid_column": null,
            "grid_gap": null,
            "grid_row": null,
            "grid_template_areas": null,
            "grid_template_columns": null,
            "grid_template_rows": null,
            "height": null,
            "justify_content": null,
            "justify_items": null,
            "left": null,
            "margin": null,
            "max_height": null,
            "max_width": null,
            "min_height": null,
            "min_width": null,
            "object_fit": null,
            "object_position": null,
            "order": null,
            "overflow": null,
            "overflow_x": null,
            "overflow_y": null,
            "padding": null,
            "right": null,
            "top": null,
            "visibility": null,
            "width": null
          }
        },
        "1fbf3aa7d9c545f6a5f3f59ef64baeb5": {
          "model_module": "@jupyter-widgets/controls",
          "model_name": "ProgressStyleModel",
          "model_module_version": "1.5.0",
          "state": {
            "_model_module": "@jupyter-widgets/controls",
            "_model_module_version": "1.5.0",
            "_model_name": "ProgressStyleModel",
            "_view_count": null,
            "_view_module": "@jupyter-widgets/base",
            "_view_module_version": "1.2.0",
            "_view_name": "StyleView",
            "bar_color": null,
            "description_width": ""
          }
        },
        "4e91eee453b847deb83c0620a2c1428d": {
          "model_module": "@jupyter-widgets/base",
          "model_name": "LayoutModel",
          "model_module_version": "1.2.0",
          "state": {
            "_model_module": "@jupyter-widgets/base",
            "_model_module_version": "1.2.0",
            "_model_name": "LayoutModel",
            "_view_count": null,
            "_view_module": "@jupyter-widgets/base",
            "_view_module_version": "1.2.0",
            "_view_name": "LayoutView",
            "align_content": null,
            "align_items": null,
            "align_self": null,
            "border": null,
            "bottom": null,
            "display": null,
            "flex": null,
            "flex_flow": null,
            "grid_area": null,
            "grid_auto_columns": null,
            "grid_auto_flow": null,
            "grid_auto_rows": null,
            "grid_column": null,
            "grid_gap": null,
            "grid_row": null,
            "grid_template_areas": null,
            "grid_template_columns": null,
            "grid_template_rows": null,
            "height": null,
            "justify_content": null,
            "justify_items": null,
            "left": null,
            "margin": null,
            "max_height": null,
            "max_width": null,
            "min_height": null,
            "min_width": null,
            "object_fit": null,
            "object_position": null,
            "order": null,
            "overflow": null,
            "overflow_x": null,
            "overflow_y": null,
            "padding": null,
            "right": null,
            "top": null,
            "visibility": null,
            "width": null
          }
        },
        "85935d9d86c24a3d9e5f26b2d5315972": {
          "model_module": "@jupyter-widgets/controls",
          "model_name": "DescriptionStyleModel",
          "model_module_version": "1.5.0",
          "state": {
            "_model_module": "@jupyter-widgets/controls",
            "_model_module_version": "1.5.0",
            "_model_name": "DescriptionStyleModel",
            "_view_count": null,
            "_view_module": "@jupyter-widgets/base",
            "_view_module_version": "1.2.0",
            "_view_name": "StyleView",
            "description_width": ""
          }
        },
        "a262c83532a84ad5b7903b49dc89dc5d": {
          "model_module": "@jupyter-widgets/controls",
          "model_name": "HBoxModel",
          "model_module_version": "1.5.0",
          "state": {
            "_dom_classes": [],
            "_model_module": "@jupyter-widgets/controls",
            "_model_module_version": "1.5.0",
            "_model_name": "HBoxModel",
            "_view_count": null,
            "_view_module": "@jupyter-widgets/controls",
            "_view_module_version": "1.5.0",
            "_view_name": "HBoxView",
            "box_style": "",
            "children": [
              "IPY_MODEL_e272337e2f06433a957d84002df0fb23",
              "IPY_MODEL_ef67b2bab9094ba0811877324baa053b",
              "IPY_MODEL_07eb9d6b82584d82a7852fff2afec8c4"
            ],
            "layout": "IPY_MODEL_a182415db791400d871788e76a5c3167"
          }
        },
        "e272337e2f06433a957d84002df0fb23": {
          "model_module": "@jupyter-widgets/controls",
          "model_name": "HTMLModel",
          "model_module_version": "1.5.0",
          "state": {
            "_dom_classes": [],
            "_model_module": "@jupyter-widgets/controls",
            "_model_module_version": "1.5.0",
            "_model_name": "HTMLModel",
            "_view_count": null,
            "_view_module": "@jupyter-widgets/controls",
            "_view_module_version": "1.5.0",
            "_view_name": "HTMLView",
            "description": "",
            "description_tooltip": null,
            "layout": "IPY_MODEL_a48b70ad4aa1404fadca726a897153db",
            "placeholder": "​",
            "style": "IPY_MODEL_ee8f292e541240578bc46fd8f3af8ddc",
            "value": "Map: 100%"
          }
        },
        "ef67b2bab9094ba0811877324baa053b": {
          "model_module": "@jupyter-widgets/controls",
          "model_name": "FloatProgressModel",
          "model_module_version": "1.5.0",
          "state": {
            "_dom_classes": [],
            "_model_module": "@jupyter-widgets/controls",
            "_model_module_version": "1.5.0",
            "_model_name": "FloatProgressModel",
            "_view_count": null,
            "_view_module": "@jupyter-widgets/controls",
            "_view_module_version": "1.5.0",
            "_view_name": "ProgressView",
            "bar_style": "success",
            "description": "",
            "description_tooltip": null,
            "layout": "IPY_MODEL_8791ae731a044a79b632751c007aed85",
            "max": 600,
            "min": 0,
            "orientation": "horizontal",
            "style": "IPY_MODEL_6a4d6fbe6e9748389435b5ff8aa02954",
            "value": 600
          }
        },
        "07eb9d6b82584d82a7852fff2afec8c4": {
          "model_module": "@jupyter-widgets/controls",
          "model_name": "HTMLModel",
          "model_module_version": "1.5.0",
          "state": {
            "_dom_classes": [],
            "_model_module": "@jupyter-widgets/controls",
            "_model_module_version": "1.5.0",
            "_model_name": "HTMLModel",
            "_view_count": null,
            "_view_module": "@jupyter-widgets/controls",
            "_view_module_version": "1.5.0",
            "_view_name": "HTMLView",
            "description": "",
            "description_tooltip": null,
            "layout": "IPY_MODEL_18b95d4b56234db1998c6e673446250b",
            "placeholder": "​",
            "style": "IPY_MODEL_1ed1797bc6134f1f84ac0f236332004c",
            "value": " 600/600 [00:00&lt;00:00, 13205.28 examples/s]"
          }
        },
        "a182415db791400d871788e76a5c3167": {
          "model_module": "@jupyter-widgets/base",
          "model_name": "LayoutModel",
          "model_module_version": "1.2.0",
          "state": {
            "_model_module": "@jupyter-widgets/base",
            "_model_module_version": "1.2.0",
            "_model_name": "LayoutModel",
            "_view_count": null,
            "_view_module": "@jupyter-widgets/base",
            "_view_module_version": "1.2.0",
            "_view_name": "LayoutView",
            "align_content": null,
            "align_items": null,
            "align_self": null,
            "border": null,
            "bottom": null,
            "display": null,
            "flex": null,
            "flex_flow": null,
            "grid_area": null,
            "grid_auto_columns": null,
            "grid_auto_flow": null,
            "grid_auto_rows": null,
            "grid_column": null,
            "grid_gap": null,
            "grid_row": null,
            "grid_template_areas": null,
            "grid_template_columns": null,
            "grid_template_rows": null,
            "height": null,
            "justify_content": null,
            "justify_items": null,
            "left": null,
            "margin": null,
            "max_height": null,
            "max_width": null,
            "min_height": null,
            "min_width": null,
            "object_fit": null,
            "object_position": null,
            "order": null,
            "overflow": null,
            "overflow_x": null,
            "overflow_y": null,
            "padding": null,
            "right": null,
            "top": null,
            "visibility": null,
            "width": null
          }
        },
        "a48b70ad4aa1404fadca726a897153db": {
          "model_module": "@jupyter-widgets/base",
          "model_name": "LayoutModel",
          "model_module_version": "1.2.0",
          "state": {
            "_model_module": "@jupyter-widgets/base",
            "_model_module_version": "1.2.0",
            "_model_name": "LayoutModel",
            "_view_count": null,
            "_view_module": "@jupyter-widgets/base",
            "_view_module_version": "1.2.0",
            "_view_name": "LayoutView",
            "align_content": null,
            "align_items": null,
            "align_self": null,
            "border": null,
            "bottom": null,
            "display": null,
            "flex": null,
            "flex_flow": null,
            "grid_area": null,
            "grid_auto_columns": null,
            "grid_auto_flow": null,
            "grid_auto_rows": null,
            "grid_column": null,
            "grid_gap": null,
            "grid_row": null,
            "grid_template_areas": null,
            "grid_template_columns": null,
            "grid_template_rows": null,
            "height": null,
            "justify_content": null,
            "justify_items": null,
            "left": null,
            "margin": null,
            "max_height": null,
            "max_width": null,
            "min_height": null,
            "min_width": null,
            "object_fit": null,
            "object_position": null,
            "order": null,
            "overflow": null,
            "overflow_x": null,
            "overflow_y": null,
            "padding": null,
            "right": null,
            "top": null,
            "visibility": null,
            "width": null
          }
        },
        "ee8f292e541240578bc46fd8f3af8ddc": {
          "model_module": "@jupyter-widgets/controls",
          "model_name": "DescriptionStyleModel",
          "model_module_version": "1.5.0",
          "state": {
            "_model_module": "@jupyter-widgets/controls",
            "_model_module_version": "1.5.0",
            "_model_name": "DescriptionStyleModel",
            "_view_count": null,
            "_view_module": "@jupyter-widgets/base",
            "_view_module_version": "1.2.0",
            "_view_name": "StyleView",
            "description_width": ""
          }
        },
        "8791ae731a044a79b632751c007aed85": {
          "model_module": "@jupyter-widgets/base",
          "model_name": "LayoutModel",
          "model_module_version": "1.2.0",
          "state": {
            "_model_module": "@jupyter-widgets/base",
            "_model_module_version": "1.2.0",
            "_model_name": "LayoutModel",
            "_view_count": null,
            "_view_module": "@jupyter-widgets/base",
            "_view_module_version": "1.2.0",
            "_view_name": "LayoutView",
            "align_content": null,
            "align_items": null,
            "align_self": null,
            "border": null,
            "bottom": null,
            "display": null,
            "flex": null,
            "flex_flow": null,
            "grid_area": null,
            "grid_auto_columns": null,
            "grid_auto_flow": null,
            "grid_auto_rows": null,
            "grid_column": null,
            "grid_gap": null,
            "grid_row": null,
            "grid_template_areas": null,
            "grid_template_columns": null,
            "grid_template_rows": null,
            "height": null,
            "justify_content": null,
            "justify_items": null,
            "left": null,
            "margin": null,
            "max_height": null,
            "max_width": null,
            "min_height": null,
            "min_width": null,
            "object_fit": null,
            "object_position": null,
            "order": null,
            "overflow": null,
            "overflow_x": null,
            "overflow_y": null,
            "padding": null,
            "right": null,
            "top": null,
            "visibility": null,
            "width": null
          }
        },
        "6a4d6fbe6e9748389435b5ff8aa02954": {
          "model_module": "@jupyter-widgets/controls",
          "model_name": "ProgressStyleModel",
          "model_module_version": "1.5.0",
          "state": {
            "_model_module": "@jupyter-widgets/controls",
            "_model_module_version": "1.5.0",
            "_model_name": "ProgressStyleModel",
            "_view_count": null,
            "_view_module": "@jupyter-widgets/base",
            "_view_module_version": "1.2.0",
            "_view_name": "StyleView",
            "bar_color": null,
            "description_width": ""
          }
        },
        "18b95d4b56234db1998c6e673446250b": {
          "model_module": "@jupyter-widgets/base",
          "model_name": "LayoutModel",
          "model_module_version": "1.2.0",
          "state": {
            "_model_module": "@jupyter-widgets/base",
            "_model_module_version": "1.2.0",
            "_model_name": "LayoutModel",
            "_view_count": null,
            "_view_module": "@jupyter-widgets/base",
            "_view_module_version": "1.2.0",
            "_view_name": "LayoutView",
            "align_content": null,
            "align_items": null,
            "align_self": null,
            "border": null,
            "bottom": null,
            "display": null,
            "flex": null,
            "flex_flow": null,
            "grid_area": null,
            "grid_auto_columns": null,
            "grid_auto_flow": null,
            "grid_auto_rows": null,
            "grid_column": null,
            "grid_gap": null,
            "grid_row": null,
            "grid_template_areas": null,
            "grid_template_columns": null,
            "grid_template_rows": null,
            "height": null,
            "justify_content": null,
            "justify_items": null,
            "left": null,
            "margin": null,
            "max_height": null,
            "max_width": null,
            "min_height": null,
            "min_width": null,
            "object_fit": null,
            "object_position": null,
            "order": null,
            "overflow": null,
            "overflow_x": null,
            "overflow_y": null,
            "padding": null,
            "right": null,
            "top": null,
            "visibility": null,
            "width": null
          }
        },
        "1ed1797bc6134f1f84ac0f236332004c": {
          "model_module": "@jupyter-widgets/controls",
          "model_name": "DescriptionStyleModel",
          "model_module_version": "1.5.0",
          "state": {
            "_model_module": "@jupyter-widgets/controls",
            "_model_module_version": "1.5.0",
            "_model_name": "DescriptionStyleModel",
            "_view_count": null,
            "_view_module": "@jupyter-widgets/base",
            "_view_module_version": "1.2.0",
            "_view_name": "StyleView",
            "description_width": ""
          }
        }
      }
    },
    "accelerator": "GPU"
  },
  "nbformat": 4,
  "nbformat_minor": 0
}